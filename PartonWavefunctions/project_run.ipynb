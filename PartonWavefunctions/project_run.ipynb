{
 "cells": [
  {
   "cell_type": "markdown",
   "id": "f3782ca3",
   "metadata": {},
   "source": [
    "# Tensor Network Representations of Parton Wave functions\n",
    "## Term project #6\n",
    "### Tensor networks 2025\n",
    "#### Philipp Heinrich, Schäffer Bálint"
   ]
  },
  {
   "cell_type": "markdown",
   "id": "9d54f221",
   "metadata": {},
   "source": [
    "## _(a)_ The Haldane-Shastry model\n",
    "* $$H_\\mathrm{HS}=\\sum_{p<q}\\frac{\\pi^2\\vec{S}_p\\cdot\\vec{S}_q}{N^2\\sin^2{\\frac{\\pi}{N}(p-q)}}$$\n",
    "* $N=32$\n",
    "* Abrikosov Fermion representation: $S_j^a=\\frac{1}{2}\\sum_{\\alpha\\beta}c_{\\alpha a}^\\dagger\\tau_{\\alpha\\beta}^ac_{j\\beta}$\n",
    "* The fermionic vacuum: $\\ket{0}=\\ket{\\downarrow...\\downarrow}$\n",
    "* Separate the sites into spin-up and spin-down sites: $\\sum_{j=1}^N\\sum_{\\alpha=\\uparrow,\\downarrow}=\\sum_{l=1}^{2N}$\n",
    "* Here the fermionic vacuum becomes: $\\ket{010101...01}$, where $\\ket{1}=c^\\dagger\\ket{0}$\n",
    "### Preparing the vacuum state"
   ]
  },
  {
   "cell_type": "code",
   "execution_count": 2,
   "id": "8fcdcdd7",
   "metadata": {},
   "outputs": [],
   "source": [
    "using LinearAlgebra\n",
    "\n",
    "\n",
    "N = 32\n",
    "mps = Vector{Array{Float64, 3}}(undef, N)\n",
    "for i in 1:N\n",
    "    # easiest representation of a single site MPS for spinless fermions\n",
    "    mps[i] = zeros(1,2,1)\n",
    "    if mod(i, 2) == 1\n",
    "        mps[i][1, 1, 1] = 1.0  # occupied state\n",
    "    else\n",
    "        mps[i][1, 2, 1] = 1.0  # unoccupied state\n",
    "    end\n",
    "end\n",
    "#TODO follow up with construcing the parton 'd' operators as MPOs"
   ]
  },
  {
   "cell_type": "code",
   "execution_count": null,
   "id": "838fea28",
   "metadata": {},
   "outputs": [],
   "source": []
  }
 ],
 "metadata": {
  "kernelspec": {
   "display_name": "Julia 1.11.5",
   "language": "julia",
   "name": "julia-1.11"
  },
  "language_info": {
   "file_extension": ".jl",
   "mimetype": "application/julia",
   "name": "julia",
   "version": "1.11.5"
  }
 },
 "nbformat": 4,
 "nbformat_minor": 5
}
