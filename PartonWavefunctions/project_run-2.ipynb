{
 "cells": [
  {
   "cell_type": "markdown",
   "id": "f3782ca3",
   "metadata": {},
   "source": [
    "# Tensor Network Representations of Parton Wave functions\n",
    "## Term project #6\n",
    "### Tensor networks 2025\n",
    "#### Philipp Heinrich, Schäffer Bálint"
   ]
  },
  {
   "cell_type": "code",
   "execution_count": 1,
   "id": "fe0d666f",
   "metadata": {},
   "outputs": [
    {
     "data": {
      "text/plain": [
       "3-element Vector{Symbol}:\n",
       " :MPS_iter\n",
       " :k_vec\n",
       " :mps_jw"
      ]
     },
     "metadata": {},
     "output_type": "display_data"
    }
   ],
   "source": [
    "using JLD2\n",
    "#save(\"project_vars.jld2\", \"MPS_iter\", MPS_iter, \"k_vec\", k_vec, \"mps_jw\", mps_jw)\n",
    "@load \"project_vars.jld2\" MPS_iter k_vec mps_jw"
   ]
  },
  {
   "cell_type": "markdown",
   "id": "3a52631e",
   "metadata": {},
   "source": [
    "## Steps\n",
    "0. Figure out the fermionic / spin representations ($S\\rightarrow c\\rightarrow\\sigma$)\n",
    "1. Construct fermionic vacuum state as MPS and $d_k^\\dagger$ as MPO and construct the Fermi sea\n",
    "2. Plot the entanglement entropy\n",
    "3. Constuct Wannier orbitals and apply them, plot the entanglement entropy\n",
    "4. Do the same using the left-meets-right method\n",
    "5. Apply Gutzwiller projection and compute ground-state energy using DMRG\n",
    "6. Compute the spin-spin correlation function and compare to exact values\n",
    "7. Prepare a presentation\n",
    "8. Seem like we know what we're doing, get a good grade"
   ]
  },
  {
   "cell_type": "markdown",
   "id": "9d54f221",
   "metadata": {},
   "source": [
    "## _(a)_ The Haldane-Shastry model\n",
    "$$H_\\mathrm{HS}=\\sum_{p<q}\\frac{\\pi^2\\vec{S}_p\\cdot\\vec{S}_q}{N^2\\sin^2{\\frac{\\pi}{N}(p-q)}}$$\n",
    "* $N=32$\n",
    "* Abrikosov Fermion representation: $S_j^a=\\frac{1}{2}\\sum_{\\alpha\\beta}c_{\\alpha a}^\\dagger\\tau_{\\alpha\\beta}^ac_{j\\beta}$\n",
    "* Separate the sites into spin-up and spin-down sites: $\\sum_{j=1}^N\\sum_{\\alpha=\\uparrow,\\downarrow}=\\sum_{l=1}^{2N}$\n",
    "* Jordan-Wigner transformation: $c_l^\\dagger=\\sigma_{l<}^z\\sigma_l^+$ with $\\sigma_{l<}^z=\\Pi_{i=1}^{l-1}\\sigma_i^z$\n",
    "* The fermionic vacuum: $\\ket{0}\\rightarrow\\ket{\\downarrow...\\downarrow}$\n",
    "### Preparing the vacuum state"
   ]
  },
  {
   "cell_type": "code",
   "execution_count": 15,
   "id": "8fcdcdd7",
   "metadata": {},
   "outputs": [],
   "source": [
    "using LinearAlgebra\n",
    "\n",
    "id = I(2)  # identity matrix for spin-1/2\n",
    "sz = [1 0; 0 -1]  # spin-z operator\n",
    "sp = [0 1; 0 0]  # spin raising operator\n",
    "sm = [0 0; 1 0]  # spin lowering operator\n",
    "\n",
    "N = 32\n",
    "mps = Vector{Array{Complex, 3}}(undef, 2N)\n",
    "for i in 1:2N\n",
    "    # easiest representation of a single site MPS for spinless fermions\n",
    "    mps[i] = zeros(1,2,1)\n",
    "    if mod(i, 2) == 1\n",
    "        mps[i][1, 1, 1] = 1.0  # occupied state\n",
    "    else\n",
    "        mps[i][1, 2, 1] = 1.0  # unoccupied state\n",
    "    end\n",
    "end\n",
    "\n",
    "# construct the MPS for the JOrdan-Wigner transformed system\n",
    "mps_jw = Vector{Array{Complex, 3}}(undef, 2N)\n",
    "for i in 1:2N\n",
    "    mps_jw[i] = zeros(1, 2, 1)\n",
    "    mps_jw[i][1, 2, 1] = 1.0  # spin down = (0,1)\n",
    "end"
   ]
  },
  {
   "cell_type": "markdown",
   "id": "f32834c7",
   "metadata": {},
   "source": [
    "- $\\ket{\\downarrow}=\\begin{pmatrix} 0 \\\\ 1 \\end{pmatrix};~ \\ket{\\uparrow}=\\begin{pmatrix} 1 \\\\ 0 \\end{pmatrix}$\n",
    "- $\\sigma^+=\\begin{pmatrix} 0&1\\\\0&0 \\end{pmatrix};~ \\sigma^z=\\begin{pmatrix} 1&0\\\\0&-1 \\end{pmatrix}$\n",
    "- As for the Parton creation operators:\n",
    "- fermion rep: $d_k^\\dagger=\\begin{pmatrix}0&1\\end{pmatrix}\\left[ \\prod_{l=1}^{2N} \\begin{pmatrix} 1&0\\\\A_{kl}c_l^\\dagger&1 \\end{pmatrix} \\right]\\begin{pmatrix}1\\\\0\\end{pmatrix}$\n",
    "- Jordan-Wigner transformation: $d_k^\\dagger=\\begin{pmatrix}0&1\\end{pmatrix}\\left[ \\prod_{l=1}^{2N} \\begin{pmatrix} 1&0\\\\A_{kl}\\sigma_l^+&\\sigma_l^z \\end{pmatrix} \\right]\\begin{pmatrix}1\\\\0\\end{pmatrix}$\n",
    "    - for H-S model: $d_{m\\alpha}^\\dagger=N^{-1/2}\\sum_{j=1}^Ne^{-i\\cdot(jm)}c_{j\\alpha}^\\dagger=\\sum_{j=1}^N A_{m,j\\alpha}c_{j\\alpha}^\\dagger$\n",
    "    - As an MPO: $d_{k\\alpha}^\\dagger=\\begin{pmatrix}0&1\\end{pmatrix}\\left[ \\prod_{l=1}^{2N} \\begin{pmatrix} 1&0\\\\A_{kl\\alpha}\\sigma_l^+&\\sigma_l^z \\end{pmatrix} \\right]\\begin{pmatrix}1\\\\0\\end{pmatrix}$\n",
    "    - with $A_{kl\\alpha}=\\begin{cases} 0~~~\\mathrm{mod}_2l=\\alpha \\\\ N^{-1/2}e^{-i\\cdot(k\\cdot(l+1-\\alpha)/2)} \\end{cases}$\n",
    "- If we denote $(j=1,\\alpha=\\uparrow)\\to(l=1)$ and use $(\\alpha=\\uparrow)=0,(\\alpha=\\downarrow)=1$, then $l(j,\\alpha)=2j-1+\\alpha$"
   ]
  },
  {
   "cell_type": "code",
   "execution_count": 2,
   "id": "e074fcc1",
   "metadata": {},
   "outputs": [
    {
     "data": {
      "text/plain": [
       "mpo_dkalpha (generic function with 1 method)"
      ]
     },
     "metadata": {},
     "output_type": "display_data"
    }
   ],
   "source": [
    "import tn_julia: contract, updateLeft\n",
    "\n",
    "function A_klalpha(k::Float64, l::Int, alpha::Int)\n",
    "    if mod(l,2) == alpha\n",
    "        return 0.0  # A_{kl\\alpha} = 0 if l is even and alpha is 0, or l is odd and alpha is 1\n",
    "    else\n",
    "        # A_{kl\\alpha} = N^{-1/2}e^{-i\\cdot(k\\cdot(l+1-\\alpha)/2)}\n",
    "        return (1/sqrt(N)) * exp(-im * k * (l + 1 - alpha) / 2)\n",
    "    end\n",
    "end\n",
    "\n",
    "function mpo_dkalpha(k::Float64, alpha::Int, l_vec::Int)\n",
    "    mpo_dk = Vector{Array{Complex, 4}}(undef, l_vec)\n",
    "    for l in 1:l_vec\n",
    "        mpo_dk[l] = zeros(Complex, 2, 2, 2, 2)  # MPO for d_k operator\n",
    "        mpo_dk[l][1, :, 1, :] = id # identity operator\n",
    "        mpo_dk[l][2, :, 2, :] = sz # sigma_z\n",
    "        mpo_dk[l][2, :, 1, :] = A_klalpha(k,l,alpha) .* sp # sigma^+\n",
    "    end\n",
    "    mpo_dk[1] = contract([0 1], [2], mpo_dk[1], [1])\n",
    "    mpo_dk[l_vec] = permutedims(contract(mpo_dk[l_vec], [3], [1 0], [2]), (1,2,4,3))\n",
    "    return mpo_dk\n",
    "end"
   ]
  },
  {
   "cell_type": "code",
   "execution_count": 23,
   "id": "b42828af",
   "metadata": {},
   "outputs": [
    {
     "data": {
      "text/plain": [
       "1×2×1 Array{Complex, 3}:\n",
       "[:, :, 1] =\n",
       " 0.0+0.0im  1.0+0.0im"
      ]
     },
     "metadata": {},
     "output_type": "display_data"
    }
   ],
   "source": [
    "A_klalpha(-2*pi*7/32, 1, 0)\n",
    "test = mpo_dkalpha(-2*pi*7/32, 0, 64)\n",
    "\n",
    "mps_jw[1]\n"
   ]
  },
  {
   "cell_type": "code",
   "execution_count": 20,
   "id": "92efbb3e",
   "metadata": {},
   "outputs": [
    {
     "data": {
      "text/plain": [
       "1×2×2 Array{Complex, 3}:\n",
       "[:, :, 1] =\n",
       " 0.0+0.0im  0.984251+0.0im\n",
       "\n",
       "[:, :, 2] =\n",
       " -0.0344874-0.17338im  0.0+0.0im"
      ]
     },
     "metadata": {},
     "output_type": "display_data"
    }
   ],
   "source": [
    "applyMPO(mps_jw, test, 100)[1]\n"
   ]
  },
  {
   "cell_type": "code",
   "execution_count": null,
   "id": "1ef72fc2",
   "metadata": {},
   "outputs": [],
   "source": []
  },
  {
   "cell_type": "markdown",
   "id": "54bbac23",
   "metadata": {},
   "source": [
    "### Applying the creation operators\n",
    "- The occupied momenta:\n",
    "$$\\vec{k} = \\frac{2\\pi}{N}\\begin{cases} 0, \\pm 1, ..., \\frac{N}{4}~~~\\mathrm{mod}_4N=0 \\\\ 0, \\pm 1, \\pm \\frac{N-2}{4}~~~\\mathrm{mod}_4N=2 \\end{cases}$$\n",
    "- Constructing the _unprojected_ Fermi-sea: $\\ket{FS}=\\prod_{k\\in \\vec{k}}\\prod_{\\alpha=\\uparrow,\\downarrow}d_{k\\alpha}^\\dagger\\ket{0}$\n",
    "- Bond dim. cutoff: $D_\\mathrm{max}=100$\n",
    "- at each update: left canonical form without truncation, then right canonical form with truncation"
   ]
  },
  {
   "cell_type": "code",
   "execution_count": null,
   "id": "aa678ed9",
   "metadata": {},
   "outputs": [
    {
     "data": {
      "text/plain": [
       "applyMPO (generic function with 2 methods)"
      ]
     },
     "metadata": {},
     "output_type": "display_data"
    }
   ],
   "source": [
    "import tn_julia: svdleft, svdright, identity as tn_identity, leftcanonical, rightcanonical, leftcanonical!, rightcanonical!\n",
    "using Dates\n",
    "\n",
    "function applyMPO(mps::Vector{Array{Complex, 3}}, mpo::Vector{Array{Complex, 4}}, Nkeep::Int=Inf)\n",
    "    result = Vector{Array{Complex, 3}}(undef, length(mps))\n",
    "    for i in 1:length(mps)\n",
    "        mps_new = contract(mps[i], [2], mpo[i], [4])\n",
    "        # combine legs (1, 3) and (2, 5)\n",
    "        id14 = tn_identity(mps_new, 1, mps_new, 3)\n",
    "        id23 = tn_identity(mps_new, 2, mps_new, 5)\n",
    "        mps_new = contract(mps_new, [1, 3], id14, [1, 2])\n",
    "        mps_new = contract(mps_new, [1, 3], id23, [1, 2])\n",
    "        result[i] = permutedims(mps_new, (2, 1, 3))\n",
    "    end\n",
    "    #TODO change leftcanonical to a QR decomposition instead of SVD\n",
    "    leftcanonical!(result)\n",
    "    rightcanonical!(result; Nkeep=Nkeep)\n",
    "    return result\n",
    "end"
   ]
  },
  {
   "cell_type": "code",
   "execution_count": null,
   "id": "65f0cff1",
   "metadata": {},
   "outputs": [],
   "source": [
    "applyMPO(mps_jw, )"
   ]
  },
  {
   "cell_type": "code",
   "execution_count": 7,
   "metadata": {},
   "outputs": [
    {
     "ename": "UndefVarError",
     "evalue": "UndefVarError: `applyMPO` not defined in `Main`\nSuggestion: check for spelling errors or missing imports.",
     "output_type": "error",
     "traceback": [
      "UndefVarError: `applyMPO` not defined in `Main`\n",
      "Suggestion: check for spelling errors or missing imports.\n",
      "\n",
      "Stacktrace:\n",
      " [1] top-level scope\n",
      "   @ ~/Documents/Tensor Networks 25/25-tn-project-6/PartonWavefunctions/jl_notebook_cell_df34fa98e69747e1a8f8a730347b8e2f_X12sZmlsZQ==.jl:9"
     ]
    }
   ],
   "source": [
    "k_vec = sort(2*pi/N.*(div(-N+1,4):div(N,4)), by=abs)\n",
    "Dmax = 100  # bond dimension cutoff\n",
    "\n",
    "MPS_iter = Array{Array{Complex, 3}, 2}(undef, 2 * length(k_vec), 2N)\n",
    "mps = mps_jw  # start with the Jordan-Wigner MPS\n",
    "for (i,k) in enumerate(k_vec)\n",
    "    for alpha in 0:1  # alpha = 0 for spin up, 1 for spin down\n",
    "        mpo_dk_k = mpo_dkalpha(k, alpha, 2N)\n",
    "        mps = applyMPO(mps, mpo_dk_k, Dmax)\n",
    "        MPS_iter[2 * i - 1 + alpha, :] = mps\n",
    "        println(\"Iteration $i for k = $k completed.\", \" Time: \", now())\n",
    "    end\n",
    "end"
   ]
  },
  {
   "cell_type": "markdown",
   "id": "0c183486",
   "metadata": {},
   "source": [
    "### Check occupation numbers"
   ]
  },
  {
   "cell_type": "code",
   "execution_count": 12,
   "id": "874859f3",
   "metadata": {},
   "outputs": [
    {
     "data": {
      "text/plain": [
       "check_occupation (generic function with 1 method)"
      ]
     },
     "metadata": {},
     "output_type": "display_data"
    }
   ],
   "source": [
    "function check_occupation(MPS::Vector{Array{Complex, 3}})\n",
    "    L = length(MPS)\n",
    "    n = 0\n",
    "    for i in 1:L\n",
    "        n_i = zeros(1, 2, 1, 2)  # left and right bond dimensions are 1\n",
    "        n_i[1, :, 1, :] = (id - [-1 0; 0 1]) ./2\n",
    "        I_i = reshape(id, (1, 2, 1, 2))  # Identity for i≠l\n",
    "        n_tensor = reshape([1], (1,1,1)) # n[l] reshaped to a tensor\n",
    "        for l in 1:L\n",
    "            n_tensor = updateLeft(n_tensor, MPS[l], if i==l n_i else I_i end, MPS[l])\n",
    "        end\n",
    "        n = n + n_tensor[1,1,1]\n",
    "        end\n",
    "    return n\n",
    "end\n",
    "\n",
    "#check_occupation(MPS_iter[15,:])  # check the occupation for the first MPS"
   ]
  },
  {
   "cell_type": "code",
   "execution_count": 60,
   "id": "e8ba99d2",
   "metadata": {},
   "outputs": [
    {
     "data": {
      "text/plain": [
       "2×2 Matrix{Float64}:\n",
       " 0.0  0.0\n",
       " 0.0  1.0"
      ]
     },
     "metadata": {},
     "output_type": "display_data"
    }
   ],
   "source": [
    "@show (id-sz)./2"
   ]
  },
  {
   "cell_type": "markdown",
   "id": "20ba713e",
   "metadata": {},
   "source": [
    "### Calculating the entanglement entropy\n",
    "- We are interested in the von Neumann entanglement entropy at the center ($l=16-17$) of the chain\n",
    "- Calculate this for each step in applying the parton creation operators\n",
    "- Consider the tensors at site 16: $A_\\alpha^{\\sigma\\lambda}$ and 17: $B_\\lambda^{\\sigma'\\beta}$\n",
    "- Contract into: $M_\\alpha^{\\sigma\\sigma'\\beta}=M(_\\alpha^\\sigma)(^{\\sigma'\\beta})$ reshaped form\n",
    "- Do svd on the reshaped matrix $M=USV^\\dagger$ and normalize: $S^i_i=\\lambda_i$, $\\sum_i\\lambda_i^2=1$\n",
    "- The entanglement entropy across the bond: $S_E=-\\sum_i\\lambda_i^2\\log_2{\\lambda_i^2}$"
   ]
  },
  {
   "cell_type": "code",
   "execution_count": 70,
   "id": "19d26245",
   "metadata": {},
   "outputs": [
    {
     "data": {
      "text/plain": [
       "entangle_entropy (generic function with 2 methods)"
      ]
     },
     "metadata": {},
     "output_type": "display_data"
    }
   ],
   "source": [
    "import tn_julia: svd\n",
    "#TODO fix this or the creation operators, whichever is wrong\n",
    "function entangle_entropy(MPS::Vector{Array{Complex, 3}}, center::Int=div(length(MPS), 2))\n",
    "    M = contract(MPS[center], [3], MPS[center+1], [1])\n",
    "    _, S, _, _ = svd(M, [1,2])\n",
    "    println(S)\n",
    "    S = S[S.>0] # keep only positive singular values\n",
    "    S = S ./ sum(S.^2)\n",
    "    S_E = -sum(S.^2 .* log2.(S.^2))\n",
    "    return S_E\n",
    "end"
   ]
  },
  {
   "cell_type": "code",
   "execution_count": 71,
   "id": "7f317a02",
   "metadata": {},
   "outputs": [],
   "source": [
    "S_E = Vector{Float64}(undef, length(MPS_iter[:,1])+1)\n",
    "S_E[1] = entangle_entropy(mps_jw)\n",
    "for i in 1:length(MPS_iter[:,1])\n",
    "    S_E[i+1] = entangle_entropy(MPS_iter[i, :])\n",
    "    println(\"Entanglement entropy: $(S_E[i+1])\")\n",
    "end"
   ]
  },
  {
   "cell_type": "code",
   "execution_count": 72,
   "id": "d7add54e",
   "metadata": {},
   "outputs": [
    {
     "data": {
      "image/png": "[encoded data removed]",
      "image/svg+xml": [
       "<?xml version=\"1.0\" encoding=\"utf-8\"?>\n",
       "<svg xmlns=\"http://www.w3.org/2000/svg\" xmlns:xlink=\"http://www.w3.org/1999/xlink\" width=\"600\" height=\"400\" viewBox=\"0 0 2400 1600\">\n",
       "<defs>\n",
       "  <clipPath id=\"clip100\">\n",
       "    <rect x=\"0\" y=\"0\" width=\"2400\" height=\"1600\"/>\n",
       "  </clipPath>\n",
       "</defs>\n",
       "<path clip-path=\"url(#clip100)\" d=\"M0 1600 L2400 1600 L2400 0 L0 0  Z\" fill=\"#ffffff\" fill-rule=\"evenodd\" fill-opacity=\"1\"/>\n",
       "<defs>\n",
       "  <clipPath id=\"clip101\">\n",
       "    <rect x=\"480\" y=\"0\" width=\"1681\" height=\"1600\"/>\n",
       "  </clipPath>\n",
       "</defs>\n",
       "<path clip-path=\"url(#clip100)\" d=\"M186.274 1486.45 L2352.76 1486.45 L2352.76 47.2441 L186.274 47.2441  Z\" fill=\"#ffffff\" fill-rule=\"evenodd\" fill-opacity=\"1\"/>\n",
       "<defs>\n",
       "  <clipPath id=\"clip102\">\n",
       "    <rect x=\"186\" y=\"47\" width=\"2167\" height=\"1440\"/>\n",
       "  </clipPath>\n",
       "</defs>\n",
       "<polyline clip-path=\"url(#clip102)\" style=\"stroke:#000000; stroke-linecap:round; stroke-linejoin:round; stroke-width:2; stroke-opacity:0.1; fill:none\" points=\"503.071,1486.45 503.071,47.2441 \"/>\n",
       "<polyline clip-path=\"url(#clip102)\" style=\"stroke:#000000; stroke-linecap:round; stroke-linejoin:round; stroke-width:2; stroke-opacity:0.1; fill:none\" points=\"822.423,1486.45 822.423,47.2441 \"/>\n",
       "<polyline clip-path=\"url(#clip102)\" style=\"stroke:#000000; stroke-linecap:round; stroke-linejoin:round; stroke-width:2; stroke-opacity:0.1; fill:none\" points=\"1141.77,1486.45 1141.77,47.2441 \"/>\n",
       "<polyline clip-path=\"url(#clip102)\" style=\"stroke:#000000; stroke-linecap:round; stroke-linejoin:round; stroke-width:2; stroke-opacity:0.1; fill:none\" points=\"1461.13,1486.45 1461.13,47.2441 \"/>\n",
       "<polyline clip-path=\"url(#clip102)\" style=\"stroke:#000000; stroke-linecap:round; stroke-linejoin:round; stroke-width:2; stroke-opacity:0.1; fill:none\" points=\"1780.48,1486.45 1780.48,47.2441 \"/>\n",
       "<polyline clip-path=\"url(#clip102)\" style=\"stroke:#000000; stroke-linecap:round; stroke-linejoin:round; stroke-width:2; stroke-opacity:0.1; fill:none\" points=\"2099.83,1486.45 2099.83,47.2441 \"/>\n",
       "<polyline clip-path=\"url(#clip102)\" style=\"stroke:#000000; stroke-linecap:round; stroke-linejoin:round; stroke-width:2; stroke-opacity:0.1; fill:none\" points=\"186.274,1445.72 2352.76,1445.72 \"/>\n",
       "<polyline clip-path=\"url(#clip102)\" style=\"stroke:#000000; stroke-linecap:round; stroke-linejoin:round; stroke-width:2; stroke-opacity:0.1; fill:none\" points=\"186.274,1106.28 2352.76,1106.28 \"/>\n",
       "<polyline clip-path=\"url(#clip102)\" style=\"stroke:#000000; stroke-linecap:round; stroke-linejoin:round; stroke-width:2; stroke-opacity:0.1; fill:none\" points=\"186.274,766.846 2352.76,766.846 \"/>\n",
       "<polyline clip-path=\"url(#clip102)\" style=\"stroke:#000000; stroke-linecap:round; stroke-linejoin:round; stroke-width:2; stroke-opacity:0.1; fill:none\" points=\"186.274,427.411 2352.76,427.411 \"/>\n",
       "<polyline clip-path=\"url(#clip102)\" style=\"stroke:#000000; stroke-linecap:round; stroke-linejoin:round; stroke-width:2; stroke-opacity:0.1; fill:none\" points=\"186.274,87.9763 2352.76,87.9763 \"/>\n",
       "<polyline clip-path=\"url(#clip100)\" style=\"stroke:#000000; stroke-linecap:round; stroke-linejoin:round; stroke-width:4; stroke-opacity:1; fill:none\" points=\"186.274,1486.45 2352.76,1486.45 \"/>\n",
       "<polyline clip-path=\"url(#clip100)\" style=\"stroke:#000000; stroke-linecap:round; stroke-linejoin:round; stroke-width:4; stroke-opacity:1; fill:none\" points=\"503.071,1486.45 503.071,1467.55 \"/>\n",
       "<polyline clip-path=\"url(#clip100)\" style=\"stroke:#000000; stroke-linecap:round; stroke-linejoin:round; stroke-width:4; stroke-opacity:1; fill:none\" points=\"822.423,1486.45 822.423,1467.55 \"/>\n",
       "<polyline clip-path=\"url(#clip100)\" style=\"stroke:#000000; stroke-linecap:round; stroke-linejoin:round; stroke-width:4; stroke-opacity:1; fill:none\" points=\"1141.77,1486.45 1141.77,1467.55 \"/>\n",
       "<polyline clip-path=\"url(#clip100)\" style=\"stroke:#000000; stroke-linecap:round; stroke-linejoin:round; stroke-width:4; stroke-opacity:1; fill:none\" points=\"1461.13,1486.45 1461.13,1467.55 \"/>\n",
       "<polyline clip-path=\"url(#clip100)\" style=\"stroke:#000000; stroke-linecap:round; stroke-linejoin:round; stroke-width:4; stroke-opacity:1; fill:none\" points=\"1780.48,1486.45 1780.48,1467.55 \"/>\n",
       "<polyline clip-path=\"url(#clip100)\" style=\"stroke:#000000; stroke-linecap:round; stroke-linejoin:round; stroke-width:4; stroke-opacity:1; fill:none\" points=\"2099.83,1486.45 2099.83,1467.55 \"/>\n",
       "<path clip-path=\"url(#clip100)\" d=\"M493.349 1514.29 L511.705 1514.29 L511.705 1518.22 L497.631 1518.22 L497.631 1526.7 Q498.65 1526.35 499.668 1526.19 Q500.687 1526 501.705 1526 Q507.492 1526 510.872 1529.17 Q514.251 1532.34 514.251 1537.76 Q514.251 1543.34 510.779 1546.44 Q507.307 1549.52 500.988 1549.52 Q498.812 1549.52 496.543 1549.15 Q494.298 1548.78 491.89 1548.04 L491.89 1543.34 Q493.974 1544.47 496.196 1545.03 Q498.418 1545.58 500.895 1545.58 Q504.9 1545.58 507.238 1543.48 Q509.575 1541.37 509.575 1537.76 Q509.575 1534.15 507.238 1532.04 Q504.9 1529.94 500.895 1529.94 Q499.02 1529.94 497.145 1530.35 Q495.293 1530.77 493.349 1531.65 L493.349 1514.29 Z\" fill=\"#000000\" fill-rule=\"nonzero\" fill-opacity=\"1\" /><path clip-path=\"url(#clip100)\" d=\"M797.11 1544.91 L804.749 1544.91 L804.749 1518.55 L796.439 1520.21 L796.439 1515.95 L804.703 1514.29 L809.379 1514.29 L809.379 1544.91 L817.018 1544.91 L817.018 1548.85 L797.11 1548.85 L797.11 1544.91 Z\" fill=\"#000000\" fill-rule=\"nonzero\" fill-opacity=\"1\" /><path clip-path=\"url(#clip100)\" d=\"M836.462 1517.37 Q832.851 1517.37 831.022 1520.93 Q829.217 1524.47 829.217 1531.6 Q829.217 1538.71 831.022 1542.27 Q832.851 1545.82 836.462 1545.82 Q840.096 1545.82 841.902 1542.27 Q843.73 1538.71 843.73 1531.6 Q843.73 1524.47 841.902 1520.93 Q840.096 1517.37 836.462 1517.37 M836.462 1513.66 Q842.272 1513.66 845.328 1518.27 Q848.406 1522.85 848.406 1531.6 Q848.406 1540.33 845.328 1544.94 Q842.272 1549.52 836.462 1549.52 Q830.652 1549.52 827.573 1544.94 Q824.517 1540.33 824.517 1531.6 Q824.517 1522.85 827.573 1518.27 Q830.652 1513.66 836.462 1513.66 Z\" fill=\"#000000\" fill-rule=\"nonzero\" fill-opacity=\"1\" /><path clip-path=\"url(#clip100)\" d=\"M1116.96 1544.91 L1124.6 1544.91 L1124.6 1518.55 L1116.29 1520.21 L1116.29 1515.95 L1124.55 1514.29 L1129.23 1514.29 L1129.23 1544.91 L1136.87 1544.91 L1136.87 1548.85 L1116.96 1548.85 L1116.96 1544.91 Z\" fill=\"#000000\" fill-rule=\"nonzero\" fill-opacity=\"1\" /><path clip-path=\"url(#clip100)\" d=\"M1146.36 1514.29 L1164.71 1514.29 L1164.71 1518.22 L1150.64 1518.22 L1150.64 1526.7 Q1151.66 1526.35 1152.68 1526.19 Q1153.7 1526 1154.71 1526 Q1160.5 1526 1163.88 1529.17 Q1167.26 1532.34 1167.26 1537.76 Q1167.26 1543.34 1163.79 1546.44 Q1160.32 1549.52 1154 1549.52 Q1151.82 1549.52 1149.55 1549.15 Q1147.31 1548.78 1144.9 1548.04 L1144.9 1543.34 Q1146.98 1544.47 1149.2 1545.03 Q1151.43 1545.58 1153.9 1545.58 Q1157.91 1545.58 1160.25 1543.48 Q1162.58 1541.37 1162.58 1537.76 Q1162.58 1534.15 1160.25 1532.04 Q1157.91 1529.94 1153.9 1529.94 Q1152.03 1529.94 1150.15 1530.35 Q1148.3 1530.77 1146.36 1531.65 L1146.36 1514.29 Z\" fill=\"#000000\" fill-rule=\"nonzero\" fill-opacity=\"1\" /><path clip-path=\"url(#clip100)\" d=\"M1439.9 1544.91 L1456.22 1544.91 L1456.22 1548.85 L1434.27 1548.85 L1434.27 1544.91 Q1436.94 1542.16 1441.52 1537.53 Q1446.13 1532.88 1447.31 1531.53 Q1449.55 1529.01 1450.43 1527.27 Q1451.33 1525.51 1451.33 1523.82 Q1451.33 1521.07 1449.39 1519.33 Q1447.47 1517.6 1444.37 1517.6 Q1442.17 1517.6 1439.71 1518.36 Q1437.28 1519.13 1434.51 1520.68 L1434.51 1515.95 Q1437.33 1514.82 1439.78 1514.24 Q1442.24 1513.66 1444.27 1513.66 Q1449.64 1513.66 1452.84 1516.35 Q1456.03 1519.03 1456.03 1523.52 Q1456.03 1525.65 1455.22 1527.57 Q1454.44 1529.47 1452.33 1532.07 Q1451.75 1532.74 1448.65 1535.95 Q1445.55 1539.15 1439.9 1544.91 Z\" fill=\"#000000\" fill-rule=\"nonzero\" fill-opacity=\"1\" /><path clip-path=\"url(#clip100)\" d=\"M1476.03 1517.37 Q1472.42 1517.37 1470.59 1520.93 Q1468.79 1524.47 1468.79 1531.6 Q1468.79 1538.71 1470.59 1542.27 Q1472.42 1545.82 1476.03 1545.82 Q1479.67 1545.82 1481.47 1542.27 Q1483.3 1538.71 1483.3 1531.6 Q1483.3 1524.47 1481.47 1520.93 Q1479.67 1517.37 1476.03 1517.37 M1476.03 1513.66 Q1481.84 1513.66 1484.9 1518.27 Q1487.98 1522.85 1487.98 1531.6 Q1487.98 1540.33 1484.9 1544.94 Q1481.84 1549.52 1476.03 1549.52 Q1470.22 1549.52 1467.14 1544.94 Q1464.09 1540.33 1464.09 1531.6 Q1464.09 1522.85 1467.14 1518.27 Q1470.22 1513.66 1476.03 1513.66 Z\" fill=\"#000000\" fill-rule=\"nonzero\" fill-opacity=\"1\" /><path clip-path=\"url(#clip100)\" d=\"M1759.75 1544.91 L1776.07 1544.91 L1776.07 1548.85 L1754.12 1548.85 L1754.12 1544.91 Q1756.79 1542.16 1761.37 1537.53 Q1765.98 1532.88 1767.16 1531.53 Q1769.4 1529.01 1770.28 1527.27 Q1771.18 1525.51 1771.18 1523.82 Q1771.18 1521.07 1769.24 1519.33 Q1767.32 1517.6 1764.22 1517.6 Q1762.02 1517.6 1759.56 1518.36 Q1757.13 1519.13 1754.36 1520.68 L1754.36 1515.95 Q1757.18 1514.82 1759.63 1514.24 Q1762.09 1513.66 1764.12 1513.66 Q1769.49 1513.66 1772.69 1516.35 Q1775.88 1519.03 1775.88 1523.52 Q1775.88 1525.65 1775.07 1527.57 Q1774.29 1529.47 1772.18 1532.07 Q1771.6 1532.74 1768.5 1535.95 Q1765.4 1539.15 1759.75 1544.91 Z\" fill=\"#000000\" fill-rule=\"nonzero\" fill-opacity=\"1\" /><path clip-path=\"url(#clip100)\" d=\"M1785.93 1514.29 L1804.29 1514.29 L1804.29 1518.22 L1790.21 1518.22 L1790.21 1526.7 Q1791.23 1526.35 1792.25 1526.19 Q1793.27 1526 1794.29 1526 Q1800.07 1526 1803.45 1529.17 Q1806.83 1532.34 1806.83 1537.76 Q1806.83 1543.34 1803.36 1546.44 Q1799.89 1549.52 1793.57 1549.52 Q1791.39 1549.52 1789.12 1549.15 Q1786.88 1548.78 1784.47 1548.04 L1784.47 1543.34 Q1786.55 1544.47 1788.78 1545.03 Q1791 1545.58 1793.48 1545.58 Q1797.48 1545.58 1799.82 1543.48 Q1802.16 1541.37 1802.16 1537.76 Q1802.16 1534.15 1799.82 1532.04 Q1797.48 1529.94 1793.48 1529.94 Q1791.6 1529.94 1789.73 1530.35 Q1787.87 1530.77 1785.93 1531.65 L1785.93 1514.29 Z\" fill=\"#000000\" fill-rule=\"nonzero\" fill-opacity=\"1\" /><path clip-path=\"url(#clip100)\" d=\"M2088.67 1530.21 Q2092.03 1530.93 2093.9 1533.2 Q2095.8 1535.47 2095.8 1538.8 Q2095.8 1543.92 2092.28 1546.72 Q2088.76 1549.52 2082.28 1549.52 Q2080.11 1549.52 2077.79 1549.08 Q2075.5 1548.66 2073.05 1547.81 L2073.05 1543.29 Q2074.99 1544.43 2077.31 1545.01 Q2079.62 1545.58 2082.14 1545.58 Q2086.54 1545.58 2088.83 1543.85 Q2091.15 1542.11 2091.15 1538.8 Q2091.15 1535.75 2089 1534.03 Q2086.87 1532.3 2083.05 1532.3 L2079.02 1532.3 L2079.02 1528.45 L2083.23 1528.45 Q2086.68 1528.45 2088.51 1527.09 Q2090.34 1525.7 2090.34 1523.11 Q2090.34 1520.45 2088.44 1519.03 Q2086.57 1517.6 2083.05 1517.6 Q2081.13 1517.6 2078.93 1518.01 Q2076.73 1518.43 2074.09 1519.31 L2074.09 1515.14 Q2076.75 1514.4 2079.07 1514.03 Q2081.4 1513.66 2083.46 1513.66 Q2088.79 1513.66 2091.89 1516.09 Q2094.99 1518.5 2094.99 1522.62 Q2094.99 1525.49 2093.35 1527.48 Q2091.7 1529.45 2088.67 1530.21 Z\" fill=\"#000000\" fill-rule=\"nonzero\" fill-opacity=\"1\" /><path clip-path=\"url(#clip100)\" d=\"M2114.67 1517.37 Q2111.06 1517.37 2109.23 1520.93 Q2107.42 1524.47 2107.42 1531.6 Q2107.42 1538.71 2109.23 1542.27 Q2111.06 1545.82 2114.67 1545.82 Q2118.3 1545.82 2120.11 1542.27 Q2121.94 1538.71 2121.94 1531.6 Q2121.94 1524.47 2120.11 1520.93 Q2118.3 1517.37 2114.67 1517.37 M2114.67 1513.66 Q2120.48 1513.66 2123.53 1518.27 Q2126.61 1522.85 2126.61 1531.6 Q2126.61 1540.33 2123.53 1544.94 Q2120.48 1549.52 2114.67 1549.52 Q2108.86 1549.52 2105.78 1544.94 Q2102.72 1540.33 2102.72 1531.6 Q2102.72 1522.85 2105.78 1518.27 Q2108.86 1513.66 2114.67 1513.66 Z\" fill=\"#000000\" fill-rule=\"nonzero\" fill-opacity=\"1\" /><polyline clip-path=\"url(#clip100)\" style=\"stroke:#000000; stroke-linecap:round; stroke-linejoin:round; stroke-width:4; stroke-opacity:1; fill:none\" points=\"186.274,1486.45 186.274,47.2441 \"/>\n",
       "<polyline clip-path=\"url(#clip100)\" style=\"stroke:#000000; stroke-linecap:round; stroke-linejoin:round; stroke-width:4; stroke-opacity:1; fill:none\" points=\"186.274,1445.72 205.172,1445.72 \"/>\n",
       "<polyline clip-path=\"url(#clip100)\" style=\"stroke:#000000; stroke-linecap:round; stroke-linejoin:round; stroke-width:4; stroke-opacity:1; fill:none\" points=\"186.274,1106.28 205.172,1106.28 \"/>\n",
       "<polyline clip-path=\"url(#clip100)\" style=\"stroke:#000000; stroke-linecap:round; stroke-linejoin:round; stroke-width:4; stroke-opacity:1; fill:none\" points=\"186.274,766.846 205.172,766.846 \"/>\n",
       "<polyline clip-path=\"url(#clip100)\" style=\"stroke:#000000; stroke-linecap:round; stroke-linejoin:round; stroke-width:4; stroke-opacity:1; fill:none\" points=\"186.274,427.411 205.172,427.411 \"/>\n",
       "<polyline clip-path=\"url(#clip100)\" style=\"stroke:#000000; stroke-linecap:round; stroke-linejoin:round; stroke-width:4; stroke-opacity:1; fill:none\" points=\"186.274,87.9763 205.172,87.9763 \"/>\n",
       "<path clip-path=\"url(#clip100)\" d=\"M62.9365 1431.51 Q59.3254 1431.51 57.4967 1435.08 Q55.6912 1438.62 55.6912 1445.75 Q55.6912 1452.86 57.4967 1456.42 Q59.3254 1459.96 62.9365 1459.96 Q66.5707 1459.96 68.3763 1456.42 Q70.205 1452.86 70.205 1445.75 Q70.205 1438.62 68.3763 1435.08 Q66.5707 1431.51 62.9365 1431.51 M62.9365 1427.81 Q68.7467 1427.81 71.8022 1432.42 Q74.8809 1437 74.8809 1445.75 Q74.8809 1454.48 71.8022 1459.08 Q68.7467 1463.67 62.9365 1463.67 Q57.1264 1463.67 54.0477 1459.08 Q50.9921 1454.48 50.9921 1445.75 Q50.9921 1437 54.0477 1432.42 Q57.1264 1427.81 62.9365 1427.81 Z\" fill=\"#000000\" fill-rule=\"nonzero\" fill-opacity=\"1\" /><path clip-path=\"url(#clip100)\" d=\"M83.0984 1457.12 L87.9827 1457.12 L87.9827 1463 L83.0984 1463 L83.0984 1457.12 Z\" fill=\"#000000\" fill-rule=\"nonzero\" fill-opacity=\"1\" /><path clip-path=\"url(#clip100)\" d=\"M108.168 1431.51 Q104.557 1431.51 102.728 1435.08 Q100.922 1438.62 100.922 1445.75 Q100.922 1452.86 102.728 1456.42 Q104.557 1459.96 108.168 1459.96 Q111.802 1459.96 113.608 1456.42 Q115.436 1452.86 115.436 1445.75 Q115.436 1438.62 113.608 1435.08 Q111.802 1431.51 108.168 1431.51 M108.168 1427.81 Q113.978 1427.81 117.033 1432.42 Q120.112 1437 120.112 1445.75 Q120.112 1454.48 117.033 1459.08 Q113.978 1463.67 108.168 1463.67 Q102.358 1463.67 99.2789 1459.08 Q96.2234 1454.48 96.2234 1445.75 Q96.2234 1437 99.2789 1432.42 Q102.358 1427.81 108.168 1427.81 Z\" fill=\"#000000\" fill-rule=\"nonzero\" fill-opacity=\"1\" /><path clip-path=\"url(#clip100)\" d=\"M138.33 1431.51 Q134.719 1431.51 132.89 1435.08 Q131.084 1438.62 131.084 1445.75 Q131.084 1452.86 132.89 1456.42 Q134.719 1459.96 138.33 1459.96 Q141.964 1459.96 143.769 1456.42 Q145.598 1452.86 145.598 1445.75 Q145.598 1438.62 143.769 1435.08 Q141.964 1431.51 138.33 1431.51 M138.33 1427.81 Q144.14 1427.81 147.195 1432.42 Q150.274 1437 150.274 1445.75 Q150.274 1454.48 147.195 1459.08 Q144.14 1463.67 138.33 1463.67 Q132.519 1463.67 129.441 1459.08 Q126.385 1454.48 126.385 1445.75 Q126.385 1437 129.441 1432.42 Q132.519 1427.81 138.33 1427.81 Z\" fill=\"#000000\" fill-rule=\"nonzero\" fill-opacity=\"1\" /><path clip-path=\"url(#clip100)\" d=\"M63.9319 1092.08 Q60.3208 1092.08 58.4921 1095.64 Q56.6865 1099.19 56.6865 1106.32 Q56.6865 1113.42 58.4921 1116.99 Q60.3208 1120.53 63.9319 1120.53 Q67.5661 1120.53 69.3717 1116.99 Q71.2004 1113.42 71.2004 1106.32 Q71.2004 1099.19 69.3717 1095.64 Q67.5661 1092.08 63.9319 1092.08 M63.9319 1088.38 Q69.742 1088.38 72.7976 1092.98 Q75.8763 1097.57 75.8763 1106.32 Q75.8763 1115.04 72.7976 1119.65 Q69.742 1124.23 63.9319 1124.23 Q58.1217 1124.23 55.043 1119.65 Q51.9875 1115.04 51.9875 1106.32 Q51.9875 1097.57 55.043 1092.98 Q58.1217 1088.38 63.9319 1088.38 Z\" fill=\"#000000\" fill-rule=\"nonzero\" fill-opacity=\"1\" /><path clip-path=\"url(#clip100)\" d=\"M84.0938 1117.68 L88.978 1117.68 L88.978 1123.56 L84.0938 1123.56 L84.0938 1117.68 Z\" fill=\"#000000\" fill-rule=\"nonzero\" fill-opacity=\"1\" /><path clip-path=\"url(#clip100)\" d=\"M103.191 1119.63 L119.51 1119.63 L119.51 1123.56 L97.566 1123.56 L97.566 1119.63 Q100.228 1116.87 104.811 1112.24 Q109.418 1107.59 110.598 1106.25 Q112.844 1103.72 113.723 1101.99 Q114.626 1100.23 114.626 1098.54 Q114.626 1095.78 112.682 1094.05 Q110.76 1092.31 107.658 1092.31 Q105.459 1092.31 103.006 1093.07 Q100.575 1093.84 97.7974 1095.39 L97.7974 1090.67 Q100.621 1089.53 103.075 1088.95 Q105.529 1088.38 107.566 1088.38 Q112.936 1088.38 116.131 1091.06 Q119.325 1093.75 119.325 1098.24 Q119.325 1100.37 118.515 1102.29 Q117.728 1104.19 115.621 1106.78 Q115.043 1107.45 111.941 1110.67 Q108.839 1113.86 103.191 1119.63 Z\" fill=\"#000000\" fill-rule=\"nonzero\" fill-opacity=\"1\" /><path clip-path=\"url(#clip100)\" d=\"M129.371 1089 L147.728 1089 L147.728 1092.94 L133.654 1092.94 L133.654 1101.41 Q134.672 1101.06 135.691 1100.9 Q136.709 1100.71 137.728 1100.71 Q143.515 1100.71 146.894 1103.89 Q150.274 1107.06 150.274 1112.47 Q150.274 1118.05 146.802 1121.15 Q143.33 1124.23 137.01 1124.23 Q134.834 1124.23 132.566 1123.86 Q130.32 1123.49 127.913 1122.75 L127.913 1118.05 Q129.996 1119.19 132.219 1119.74 Q134.441 1120.3 136.918 1120.3 Q140.922 1120.3 143.26 1118.19 Q145.598 1116.08 145.598 1112.47 Q145.598 1108.86 143.26 1106.76 Q140.922 1104.65 136.918 1104.65 Q135.043 1104.65 133.168 1105.07 Q131.316 1105.48 129.371 1106.36 L129.371 1089 Z\" fill=\"#000000\" fill-rule=\"nonzero\" fill-opacity=\"1\" /><path clip-path=\"url(#clip100)\" d=\"M62.9365 752.645 Q59.3254 752.645 57.4967 756.209 Q55.6912 759.751 55.6912 766.881 Q55.6912 773.987 57.4967 777.552 Q59.3254 781.094 62.9365 781.094 Q66.5707 781.094 68.3763 777.552 Q70.205 773.987 70.205 766.881 Q70.205 759.751 68.3763 756.209 Q66.5707 752.645 62.9365 752.645 M62.9365 748.941 Q68.7467 748.941 71.8022 753.547 Q74.8809 758.131 74.8809 766.881 Q74.8809 775.608 71.8022 780.214 Q68.7467 784.797 62.9365 784.797 Q57.1264 784.797 54.0477 780.214 Q50.9921 775.608 50.9921 766.881 Q50.9921 758.131 54.0477 753.547 Q57.1264 748.941 62.9365 748.941 Z\" fill=\"#000000\" fill-rule=\"nonzero\" fill-opacity=\"1\" /><path clip-path=\"url(#clip100)\" d=\"M83.0984 778.246 L87.9827 778.246 L87.9827 784.126 L83.0984 784.126 L83.0984 778.246 Z\" fill=\"#000000\" fill-rule=\"nonzero\" fill-opacity=\"1\" /><path clip-path=\"url(#clip100)\" d=\"M98.2141 749.566 L116.57 749.566 L116.57 753.501 L102.496 753.501 L102.496 761.973 Q103.515 761.626 104.534 761.464 Q105.552 761.279 106.571 761.279 Q112.358 761.279 115.737 764.45 Q119.117 767.621 119.117 773.038 Q119.117 778.617 115.645 781.719 Q112.172 784.797 105.853 784.797 Q103.677 784.797 101.409 784.427 Q99.1632 784.057 96.7558 783.316 L96.7558 778.617 Q98.8391 779.751 101.061 780.307 Q103.284 780.862 105.76 780.862 Q109.765 780.862 112.103 778.756 Q114.441 776.649 114.441 773.038 Q114.441 769.427 112.103 767.321 Q109.765 765.214 105.76 765.214 Q103.885 765.214 102.01 765.631 Q100.159 766.047 98.2141 766.927 L98.2141 749.566 Z\" fill=\"#000000\" fill-rule=\"nonzero\" fill-opacity=\"1\" /><path clip-path=\"url(#clip100)\" d=\"M138.33 752.645 Q134.719 752.645 132.89 756.209 Q131.084 759.751 131.084 766.881 Q131.084 773.987 132.89 777.552 Q134.719 781.094 138.33 781.094 Q141.964 781.094 143.769 777.552 Q145.598 773.987 145.598 766.881 Q145.598 759.751 143.769 756.209 Q141.964 752.645 138.33 752.645 M138.33 748.941 Q144.14 748.941 147.195 753.547 Q150.274 758.131 150.274 766.881 Q150.274 775.608 147.195 780.214 Q144.14 784.797 138.33 784.797 Q132.519 784.797 129.441 780.214 Q126.385 775.608 126.385 766.881 Q126.385 758.131 129.441 753.547 Q132.519 748.941 138.33 748.941 Z\" fill=\"#000000\" fill-rule=\"nonzero\" fill-opacity=\"1\" /><path clip-path=\"url(#clip100)\" d=\"M63.9319 413.21 Q60.3208 413.21 58.4921 416.775 Q56.6865 420.316 56.6865 427.446 Q56.6865 434.552 58.4921 438.117 Q60.3208 441.659 63.9319 441.659 Q67.5661 441.659 69.3717 438.117 Q71.2004 434.552 71.2004 427.446 Q71.2004 420.316 69.3717 416.775 Q67.5661 413.21 63.9319 413.21 M63.9319 409.506 Q69.742 409.506 72.7976 414.113 Q75.8763 418.696 75.8763 427.446 Q75.8763 436.173 72.7976 440.779 Q69.742 445.362 63.9319 445.362 Q58.1217 445.362 55.043 440.779 Q51.9875 436.173 51.9875 427.446 Q51.9875 418.696 55.043 414.113 Q58.1217 409.506 63.9319 409.506 Z\" fill=\"#000000\" fill-rule=\"nonzero\" fill-opacity=\"1\" /><path clip-path=\"url(#clip100)\" d=\"M84.0938 438.812 L88.978 438.812 L88.978 444.691 L84.0938 444.691 L84.0938 438.812 Z\" fill=\"#000000\" fill-rule=\"nonzero\" fill-opacity=\"1\" /><path clip-path=\"url(#clip100)\" d=\"M97.9826 410.131 L120.205 410.131 L120.205 412.122 L107.658 444.691 L102.774 444.691 L114.58 414.066 L97.9826 414.066 L97.9826 410.131 Z\" fill=\"#000000\" fill-rule=\"nonzero\" fill-opacity=\"1\" /><path clip-path=\"url(#clip100)\" d=\"M129.371 410.131 L147.728 410.131 L147.728 414.066 L133.654 414.066 L133.654 422.538 Q134.672 422.191 135.691 422.029 Q136.709 421.844 137.728 421.844 Q143.515 421.844 146.894 425.015 Q150.274 428.187 150.274 433.603 Q150.274 439.182 146.802 442.284 Q143.33 445.362 137.01 445.362 Q134.834 445.362 132.566 444.992 Q130.32 444.622 127.913 443.881 L127.913 439.182 Q129.996 440.316 132.219 440.872 Q134.441 441.427 136.918 441.427 Q140.922 441.427 143.26 439.321 Q145.598 437.214 145.598 433.603 Q145.598 429.992 143.26 427.886 Q140.922 425.779 136.918 425.779 Q135.043 425.779 133.168 426.196 Q131.316 426.613 129.371 427.492 L129.371 410.131 Z\" fill=\"#000000\" fill-rule=\"nonzero\" fill-opacity=\"1\" /><path clip-path=\"url(#clip100)\" d=\"M53.7467 101.321 L61.3856 101.321 L61.3856 74.9555 L53.0754 76.6222 L53.0754 72.3629 L61.3393 70.6963 L66.0152 70.6963 L66.0152 101.321 L73.654 101.321 L73.654 105.256 L53.7467 105.256 L53.7467 101.321 Z\" fill=\"#000000\" fill-rule=\"nonzero\" fill-opacity=\"1\" /><path clip-path=\"url(#clip100)\" d=\"M83.0984 99.3767 L87.9827 99.3767 L87.9827 105.256 L83.0984 105.256 L83.0984 99.3767 Z\" fill=\"#000000\" fill-rule=\"nonzero\" fill-opacity=\"1\" /><path clip-path=\"url(#clip100)\" d=\"M108.168 73.775 Q104.557 73.775 102.728 77.3398 Q100.922 80.8814 100.922 88.011 Q100.922 95.1174 102.728 98.6822 Q104.557 102.224 108.168 102.224 Q111.802 102.224 113.608 98.6822 Q115.436 95.1174 115.436 88.011 Q115.436 80.8814 113.608 77.3398 Q111.802 73.775 108.168 73.775 M108.168 70.0713 Q113.978 70.0713 117.033 74.6777 Q120.112 79.261 120.112 88.011 Q120.112 96.7378 117.033 101.344 Q113.978 105.928 108.168 105.928 Q102.358 105.928 99.2789 101.344 Q96.2234 96.7378 96.2234 88.011 Q96.2234 79.261 99.2789 74.6777 Q102.358 70.0713 108.168 70.0713 Z\" fill=\"#000000\" fill-rule=\"nonzero\" fill-opacity=\"1\" /><path clip-path=\"url(#clip100)\" d=\"M138.33 73.775 Q134.719 73.775 132.89 77.3398 Q131.084 80.8814 131.084 88.011 Q131.084 95.1174 132.89 98.6822 Q134.719 102.224 138.33 102.224 Q141.964 102.224 143.769 98.6822 Q145.598 95.1174 145.598 88.011 Q145.598 80.8814 143.769 77.3398 Q141.964 73.775 138.33 73.775 M138.33 70.0713 Q144.14 70.0713 147.195 74.6777 Q150.274 79.261 150.274 88.011 Q150.274 96.7378 147.195 101.344 Q144.14 105.928 138.33 105.928 Q132.519 105.928 129.441 101.344 Q126.385 96.7378 126.385 88.011 Q126.385 79.261 129.441 74.6777 Q132.519 70.0713 138.33 70.0713 Z\" fill=\"#000000\" fill-rule=\"nonzero\" fill-opacity=\"1\" /><polyline clip-path=\"url(#clip102)\" style=\"stroke:#009af9; stroke-linecap:round; stroke-linejoin:round; stroke-width:4; stroke-opacity:1; fill:none\" points=\"247.59,1445.72 311.46,87.9763 375.33,88.824 439.201,427.835 503.071,768.905 566.941,1022.45 630.812,1193.1 694.682,1266.42 758.552,1268.29 822.423,1267.31 886.293,1269.24 950.163,1268.57 1014.03,1269.05 1077.9,1269.16 1141.77,1269.54 1205.64,1269.36 1269.51,1269.87 1333.39,1269.75 1397.26,1270.41 1461.13,1270.14 1525,1270.49 1588.87,1270.57 1652.74,1271.18 1716.61,1270.52 1780.48,1271.01 1844.35,1271.21 1908.22,1271.36 1972.09,1271.18 2035.96,1271.5 2099.83,1271.77 2163.7,1271.58 2227.57,1270.96 2291.44,1271.46 \"/>\n",
       "<path clip-path=\"url(#clip100)\" d=\"M2011.46 198.898 L2280.54 198.898 L2280.54 95.2176 L2011.46 95.2176  Z\" fill=\"#ffffff\" fill-rule=\"evenodd\" fill-opacity=\"1\"/>\n",
       "<polyline clip-path=\"url(#clip100)\" style=\"stroke:#000000; stroke-linecap:round; stroke-linejoin:round; stroke-width:4; stroke-opacity:1; fill:none\" points=\"2011.46,198.898 2280.54,198.898 2280.54,95.2176 2011.46,95.2176 2011.46,198.898 \"/>\n",
       "<polyline clip-path=\"url(#clip100)\" style=\"stroke:#009af9; stroke-linecap:round; stroke-linejoin:round; stroke-width:4; stroke-opacity:1; fill:none\" points=\"2035.53,147.058 2179.97,147.058 \"/>\n",
       "<path clip-path=\"url(#clip100)\" d=\"M2217.88 166.745 Q2216.07 171.375 2214.36 172.787 Q2212.65 174.199 2209.78 174.199 L2206.38 174.199 L2206.38 170.634 L2208.88 170.634 Q2210.63 170.634 2211.61 169.8 Q2212.58 168.967 2213.76 165.865 L2214.52 163.921 L2204.04 138.412 L2208.55 138.412 L2216.65 158.689 L2224.76 138.412 L2229.27 138.412 L2217.88 166.745 Z\" fill=\"#000000\" fill-rule=\"nonzero\" fill-opacity=\"1\" /><path clip-path=\"url(#clip100)\" d=\"M2236.56 160.402 L2244.2 160.402 L2244.2 134.037 L2235.89 135.703 L2235.89 131.444 L2244.15 129.778 L2248.83 129.778 L2248.83 160.402 L2256.47 160.402 L2256.47 164.338 L2236.56 164.338 L2236.56 160.402 Z\" fill=\"#000000\" fill-rule=\"nonzero\" fill-opacity=\"1\" /></svg>\n"
      ],
      "text/html": [
       "<?xml version=\"1.0\" encoding=\"utf-8\"?>\n",
       "<svg xmlns=\"http://www.w3.org/2000/svg\" xmlns:xlink=\"http://www.w3.org/1999/xlink\" width=\"600\" height=\"400\" viewBox=\"0 0 2400 1600\">\n",
       "<defs>\n",
       "  <clipPath id=\"clip150\">\n",
       "    <rect x=\"0\" y=\"0\" width=\"2400\" height=\"1600\"/>\n",
       "  </clipPath>\n",
       "</defs>\n",
       "<path clip-path=\"url(#clip150)\" d=\"M0 1600 L2400 1600 L2400 0 L0 0  Z\" fill=\"#ffffff\" fill-rule=\"evenodd\" fill-opacity=\"1\"/>\n",
       "<defs>\n",
       "  <clipPath id=\"clip151\">\n",
       "    <rect x=\"480\" y=\"0\" width=\"1681\" height=\"1600\"/>\n",
       "  </clipPath>\n",
       "</defs>\n",
       "<path clip-path=\"url(#clip150)\" d=\"M186.274 1486.45 L2352.76 1486.45 L2352.76 47.2441 L186.274 47.2441  Z\" fill=\"#ffffff\" fill-rule=\"evenodd\" fill-opacity=\"1\"/>\n",
       "<defs>\n",
       "  <clipPath id=\"clip152\">\n",
       "    <rect x=\"186\" y=\"47\" width=\"2167\" height=\"1440\"/>\n",
       "  </clipPath>\n",
       "</defs>\n",
       "<polyline clip-path=\"url(#clip152)\" style=\"stroke:#000000; stroke-linecap:round; stroke-linejoin:round; stroke-width:2; stroke-opacity:0.1; fill:none\" points=\"503.071,1486.45 503.071,47.2441 \"/>\n",
       "<polyline clip-path=\"url(#clip152)\" style=\"stroke:#000000; stroke-linecap:round; stroke-linejoin:round; stroke-width:2; stroke-opacity:0.1; fill:none\" points=\"822.423,1486.45 822.423,47.2441 \"/>\n",
       "<polyline clip-path=\"url(#clip152)\" style=\"stroke:#000000; stroke-linecap:round; stroke-linejoin:round; stroke-width:2; stroke-opacity:0.1; fill:none\" points=\"1141.77,1486.45 1141.77,47.2441 \"/>\n",
       "<polyline clip-path=\"url(#clip152)\" style=\"stroke:#000000; stroke-linecap:round; stroke-linejoin:round; stroke-width:2; stroke-opacity:0.1; fill:none\" points=\"1461.13,1486.45 1461.13,47.2441 \"/>\n",
       "<polyline clip-path=\"url(#clip152)\" style=\"stroke:#000000; stroke-linecap:round; stroke-linejoin:round; stroke-width:2; stroke-opacity:0.1; fill:none\" points=\"1780.48,1486.45 1780.48,47.2441 \"/>\n",
       "<polyline clip-path=\"url(#clip152)\" style=\"stroke:#000000; stroke-linecap:round; stroke-linejoin:round; stroke-width:2; stroke-opacity:0.1; fill:none\" points=\"2099.83,1486.45 2099.83,47.2441 \"/>\n",
       "<polyline clip-path=\"url(#clip152)\" style=\"stroke:#000000; stroke-linecap:round; stroke-linejoin:round; stroke-width:2; stroke-opacity:0.1; fill:none\" points=\"186.274,1445.72 2352.76,1445.72 \"/>\n",
       "<polyline clip-path=\"url(#clip152)\" style=\"stroke:#000000; stroke-linecap:round; stroke-linejoin:round; stroke-width:2; stroke-opacity:0.1; fill:none\" points=\"186.274,1106.28 2352.76,1106.28 \"/>\n",
       "<polyline clip-path=\"url(#clip152)\" style=\"stroke:#000000; stroke-linecap:round; stroke-linejoin:round; stroke-width:2; stroke-opacity:0.1; fill:none\" points=\"186.274,766.846 2352.76,766.846 \"/>\n",
       "<polyline clip-path=\"url(#clip152)\" style=\"stroke:#000000; stroke-linecap:round; stroke-linejoin:round; stroke-width:2; stroke-opacity:0.1; fill:none\" points=\"186.274,427.411 2352.76,427.411 \"/>\n",
       "<polyline clip-path=\"url(#clip152)\" style=\"stroke:#000000; stroke-linecap:round; stroke-linejoin:round; stroke-width:2; stroke-opacity:0.1; fill:none\" points=\"186.274,87.9763 2352.76,87.9763 \"/>\n",
       "<polyline clip-path=\"url(#clip150)\" style=\"stroke:#000000; stroke-linecap:round; stroke-linejoin:round; stroke-width:4; stroke-opacity:1; fill:none\" points=\"186.274,1486.45 2352.76,1486.45 \"/>\n",
       "<polyline clip-path=\"url(#clip150)\" style=\"stroke:#000000; stroke-linecap:round; stroke-linejoin:round; stroke-width:4; stroke-opacity:1; fill:none\" points=\"503.071,1486.45 503.071,1467.55 \"/>\n",
       "<polyline clip-path=\"url(#clip150)\" style=\"stroke:#000000; stroke-linecap:round; stroke-linejoin:round; stroke-width:4; stroke-opacity:1; fill:none\" points=\"822.423,1486.45 822.423,1467.55 \"/>\n",
       "<polyline clip-path=\"url(#clip150)\" style=\"stroke:#000000; stroke-linecap:round; stroke-linejoin:round; stroke-width:4; stroke-opacity:1; fill:none\" points=\"1141.77,1486.45 1141.77,1467.55 \"/>\n",
       "<polyline clip-path=\"url(#clip150)\" style=\"stroke:#000000; stroke-linecap:round; stroke-linejoin:round; stroke-width:4; stroke-opacity:1; fill:none\" points=\"1461.13,1486.45 1461.13,1467.55 \"/>\n",
       "<polyline clip-path=\"url(#clip150)\" style=\"stroke:#000000; stroke-linecap:round; stroke-linejoin:round; stroke-width:4; stroke-opacity:1; fill:none\" points=\"1780.48,1486.45 1780.48,1467.55 \"/>\n",
       "<polyline clip-path=\"url(#clip150)\" style=\"stroke:#000000; stroke-linecap:round; stroke-linejoin:round; stroke-width:4; stroke-opacity:1; fill:none\" points=\"2099.83,1486.45 2099.83,1467.55 \"/>\n",
       "<path clip-path=\"url(#clip150)\" d=\"M493.349 1514.29 L511.705 1514.29 L511.705 1518.22 L497.631 1518.22 L497.631 1526.7 Q498.65 1526.35 499.668 1526.19 Q500.687 1526 501.705 1526 Q507.492 1526 510.872 1529.17 Q514.251 1532.34 514.251 1537.76 Q514.251 1543.34 510.779 1546.44 Q507.307 1549.52 500.988 1549.52 Q498.812 1549.52 496.543 1549.15 Q494.298 1548.78 491.89 1548.04 L491.89 1543.34 Q493.974 1544.47 496.196 1545.03 Q498.418 1545.58 500.895 1545.58 Q504.9 1545.58 507.238 1543.48 Q509.575 1541.37 509.575 1537.76 Q509.575 1534.15 507.238 1532.04 Q504.9 1529.94 500.895 1529.94 Q499.02 1529.94 497.145 1530.35 Q495.293 1530.77 493.349 1531.65 L493.349 1514.29 Z\" fill=\"#000000\" fill-rule=\"nonzero\" fill-opacity=\"1\" /><path clip-path=\"url(#clip150)\" d=\"M797.11 1544.91 L804.749 1544.91 L804.749 1518.55 L796.439 1520.21 L796.439 1515.95 L804.703 1514.29 L809.379 1514.29 L809.379 1544.91 L817.018 1544.91 L817.018 1548.85 L797.11 1548.85 L797.11 1544.91 Z\" fill=\"#000000\" fill-rule=\"nonzero\" fill-opacity=\"1\" /><path clip-path=\"url(#clip150)\" d=\"M836.462 1517.37 Q832.851 1517.37 831.022 1520.93 Q829.217 1524.47 829.217 1531.6 Q829.217 1538.71 831.022 1542.27 Q832.851 1545.82 836.462 1545.82 Q840.096 1545.82 841.902 1542.27 Q843.73 1538.71 843.73 1531.6 Q843.73 1524.47 841.902 1520.93 Q840.096 1517.37 836.462 1517.37 M836.462 1513.66 Q842.272 1513.66 845.328 1518.27 Q848.406 1522.85 848.406 1531.6 Q848.406 1540.33 845.328 1544.94 Q842.272 1549.52 836.462 1549.52 Q830.652 1549.52 827.573 1544.94 Q824.517 1540.33 824.517 1531.6 Q824.517 1522.85 827.573 1518.27 Q830.652 1513.66 836.462 1513.66 Z\" fill=\"#000000\" fill-rule=\"nonzero\" fill-opacity=\"1\" /><path clip-path=\"url(#clip150)\" d=\"M1116.96 1544.91 L1124.6 1544.91 L1124.6 1518.55 L1116.29 1520.21 L1116.29 1515.95 L1124.55 1514.29 L1129.23 1514.29 L1129.23 1544.91 L1136.87 1544.91 L1136.87 1548.85 L1116.96 1548.85 L1116.96 1544.91 Z\" fill=\"#000000\" fill-rule=\"nonzero\" fill-opacity=\"1\" /><path clip-path=\"url(#clip150)\" d=\"M1146.36 1514.29 L1164.71 1514.29 L1164.71 1518.22 L1150.64 1518.22 L1150.64 1526.7 Q1151.66 1526.35 1152.68 1526.19 Q1153.7 1526 1154.71 1526 Q1160.5 1526 1163.88 1529.17 Q1167.26 1532.34 1167.26 1537.76 Q1167.26 1543.34 1163.79 1546.44 Q1160.32 1549.52 1154 1549.52 Q1151.82 1549.52 1149.55 1549.15 Q1147.31 1548.78 1144.9 1548.04 L1144.9 1543.34 Q1146.98 1544.47 1149.2 1545.03 Q1151.43 1545.58 1153.9 1545.58 Q1157.91 1545.58 1160.25 1543.48 Q1162.58 1541.37 1162.58 1537.76 Q1162.58 1534.15 1160.25 1532.04 Q1157.91 1529.94 1153.9 1529.94 Q1152.03 1529.94 1150.15 1530.35 Q1148.3 1530.77 1146.36 1531.65 L1146.36 1514.29 Z\" fill=\"#000000\" fill-rule=\"nonzero\" fill-opacity=\"1\" /><path clip-path=\"url(#clip150)\" d=\"M1439.9 1544.91 L1456.22 1544.91 L1456.22 1548.85 L1434.27 1548.85 L1434.27 1544.91 Q1436.94 1542.16 1441.52 1537.53 Q1446.13 1532.88 1447.31 1531.53 Q1449.55 1529.01 1450.43 1527.27 Q1451.33 1525.51 1451.33 1523.82 Q1451.33 1521.07 1449.39 1519.33 Q1447.47 1517.6 1444.37 1517.6 Q1442.17 1517.6 1439.71 1518.36 Q1437.28 1519.13 1434.51 1520.68 L1434.51 1515.95 Q1437.33 1514.82 1439.78 1514.24 Q1442.24 1513.66 1444.27 1513.66 Q1449.64 1513.66 1452.84 1516.35 Q1456.03 1519.03 1456.03 1523.52 Q1456.03 1525.65 1455.22 1527.57 Q1454.44 1529.47 1452.33 1532.07 Q1451.75 1532.74 1448.65 1535.95 Q1445.55 1539.15 1439.9 1544.91 Z\" fill=\"#000000\" fill-rule=\"nonzero\" fill-opacity=\"1\" /><path clip-path=\"url(#clip150)\" d=\"M1476.03 1517.37 Q1472.42 1517.37 1470.59 1520.93 Q1468.79 1524.47 1468.79 1531.6 Q1468.79 1538.71 1470.59 1542.27 Q1472.42 1545.82 1476.03 1545.82 Q1479.67 1545.82 1481.47 1542.27 Q1483.3 1538.71 1483.3 1531.6 Q1483.3 1524.47 1481.47 1520.93 Q1479.67 1517.37 1476.03 1517.37 M1476.03 1513.66 Q1481.84 1513.66 1484.9 1518.27 Q1487.98 1522.85 1487.98 1531.6 Q1487.98 1540.33 1484.9 1544.94 Q1481.84 1549.52 1476.03 1549.52 Q1470.22 1549.52 1467.14 1544.94 Q1464.09 1540.33 1464.09 1531.6 Q1464.09 1522.85 1467.14 1518.27 Q1470.22 1513.66 1476.03 1513.66 Z\" fill=\"#000000\" fill-rule=\"nonzero\" fill-opacity=\"1\" /><path clip-path=\"url(#clip150)\" d=\"M1759.75 1544.91 L1776.07 1544.91 L1776.07 1548.85 L1754.12 1548.85 L1754.12 1544.91 Q1756.79 1542.16 1761.37 1537.53 Q1765.98 1532.88 1767.16 1531.53 Q1769.4 1529.01 1770.28 1527.27 Q1771.18 1525.51 1771.18 1523.82 Q1771.18 1521.07 1769.24 1519.33 Q1767.32 1517.6 1764.22 1517.6 Q1762.02 1517.6 1759.56 1518.36 Q1757.13 1519.13 1754.36 1520.68 L1754.36 1515.95 Q1757.18 1514.82 1759.63 1514.24 Q1762.09 1513.66 1764.12 1513.66 Q1769.49 1513.66 1772.69 1516.35 Q1775.88 1519.03 1775.88 1523.52 Q1775.88 1525.65 1775.07 1527.57 Q1774.29 1529.47 1772.18 1532.07 Q1771.6 1532.74 1768.5 1535.95 Q1765.4 1539.15 1759.75 1544.91 Z\" fill=\"#000000\" fill-rule=\"nonzero\" fill-opacity=\"1\" /><path clip-path=\"url(#clip150)\" d=\"M1785.93 1514.29 L1804.29 1514.29 L1804.29 1518.22 L1790.21 1518.22 L1790.21 1526.7 Q1791.23 1526.35 1792.25 1526.19 Q1793.27 1526 1794.29 1526 Q1800.07 1526 1803.45 1529.17 Q1806.83 1532.34 1806.83 1537.76 Q1806.83 1543.34 1803.36 1546.44 Q1799.89 1549.52 1793.57 1549.52 Q1791.39 1549.52 1789.12 1549.15 Q1786.88 1548.78 1784.47 1548.04 L1784.47 1543.34 Q1786.55 1544.47 1788.78 1545.03 Q1791 1545.58 1793.48 1545.58 Q1797.48 1545.58 1799.82 1543.48 Q1802.16 1541.37 1802.16 1537.76 Q1802.16 1534.15 1799.82 1532.04 Q1797.48 1529.94 1793.48 1529.94 Q1791.6 1529.94 1789.73 1530.35 Q1787.87 1530.77 1785.93 1531.65 L1785.93 1514.29 Z\" fill=\"#000000\" fill-rule=\"nonzero\" fill-opacity=\"1\" /><path clip-path=\"url(#clip150)\" d=\"M2088.67 1530.21 Q2092.03 1530.93 2093.9 1533.2 Q2095.8 1535.47 2095.8 1538.8 Q2095.8 1543.92 2092.28 1546.72 Q2088.76 1549.52 2082.28 1549.52 Q2080.11 1549.52 2077.79 1549.08 Q2075.5 1548.66 2073.05 1547.81 L2073.05 1543.29 Q2074.99 1544.43 2077.31 1545.01 Q2079.62 1545.58 2082.14 1545.58 Q2086.54 1545.58 2088.83 1543.85 Q2091.15 1542.11 2091.15 1538.8 Q2091.15 1535.75 2089 1534.03 Q2086.87 1532.3 2083.05 1532.3 L2079.02 1532.3 L2079.02 1528.45 L2083.23 1528.45 Q2086.68 1528.45 2088.51 1527.09 Q2090.34 1525.7 2090.34 1523.11 Q2090.34 1520.45 2088.44 1519.03 Q2086.57 1517.6 2083.05 1517.6 Q2081.13 1517.6 2078.93 1518.01 Q2076.73 1518.43 2074.09 1519.31 L2074.09 1515.14 Q2076.75 1514.4 2079.07 1514.03 Q2081.4 1513.66 2083.46 1513.66 Q2088.79 1513.66 2091.89 1516.09 Q2094.99 1518.5 2094.99 1522.62 Q2094.99 1525.49 2093.35 1527.48 Q2091.7 1529.45 2088.67 1530.21 Z\" fill=\"#000000\" fill-rule=\"nonzero\" fill-opacity=\"1\" /><path clip-path=\"url(#clip150)\" d=\"M2114.67 1517.37 Q2111.06 1517.37 2109.23 1520.93 Q2107.42 1524.47 2107.42 1531.6 Q2107.42 1538.71 2109.23 1542.27 Q2111.06 1545.82 2114.67 1545.82 Q2118.3 1545.82 2120.11 1542.27 Q2121.94 1538.71 2121.94 1531.6 Q2121.94 1524.47 2120.11 1520.93 Q2118.3 1517.37 2114.67 1517.37 M2114.67 1513.66 Q2120.48 1513.66 2123.53 1518.27 Q2126.61 1522.85 2126.61 1531.6 Q2126.61 1540.33 2123.53 1544.94 Q2120.48 1549.52 2114.67 1549.52 Q2108.86 1549.52 2105.78 1544.94 Q2102.72 1540.33 2102.72 1531.6 Q2102.72 1522.85 2105.78 1518.27 Q2108.86 1513.66 2114.67 1513.66 Z\" fill=\"#000000\" fill-rule=\"nonzero\" fill-opacity=\"1\" /><polyline clip-path=\"url(#clip150)\" style=\"stroke:#000000; stroke-linecap:round; stroke-linejoin:round; stroke-width:4; stroke-opacity:1; fill:none\" points=\"186.274,1486.45 186.274,47.2441 \"/>\n",
       "<polyline clip-path=\"url(#clip150)\" style=\"stroke:#000000; stroke-linecap:round; stroke-linejoin:round; stroke-width:4; stroke-opacity:1; fill:none\" points=\"186.274,1445.72 205.172,1445.72 \"/>\n",
       "<polyline clip-path=\"url(#clip150)\" style=\"stroke:#000000; stroke-linecap:round; stroke-linejoin:round; stroke-width:4; stroke-opacity:1; fill:none\" points=\"186.274,1106.28 205.172,1106.28 \"/>\n",
       "<polyline clip-path=\"url(#clip150)\" style=\"stroke:#000000; stroke-linecap:round; stroke-linejoin:round; stroke-width:4; stroke-opacity:1; fill:none\" points=\"186.274,766.846 205.172,766.846 \"/>\n",
       "<polyline clip-path=\"url(#clip150)\" style=\"stroke:#000000; stroke-linecap:round; stroke-linejoin:round; stroke-width:4; stroke-opacity:1; fill:none\" points=\"186.274,427.411 205.172,427.411 \"/>\n",
       "<polyline clip-path=\"url(#clip150)\" style=\"stroke:#000000; stroke-linecap:round; stroke-linejoin:round; stroke-width:4; stroke-opacity:1; fill:none\" points=\"186.274,87.9763 205.172,87.9763 \"/>\n",
       "<path clip-path=\"url(#clip150)\" d=\"M62.9365 1431.51 Q59.3254 1431.51 57.4967 1435.08 Q55.6912 1438.62 55.6912 1445.75 Q55.6912 1452.86 57.4967 1456.42 Q59.3254 1459.96 62.9365 1459.96 Q66.5707 1459.96 68.3763 1456.42 Q70.205 1452.86 70.205 1445.75 Q70.205 1438.62 68.3763 1435.08 Q66.5707 1431.51 62.9365 1431.51 M62.9365 1427.81 Q68.7467 1427.81 71.8022 1432.42 Q74.8809 1437 74.8809 1445.75 Q74.8809 1454.48 71.8022 1459.08 Q68.7467 1463.67 62.9365 1463.67 Q57.1264 1463.67 54.0477 1459.08 Q50.9921 1454.48 50.9921 1445.75 Q50.9921 1437 54.0477 1432.42 Q57.1264 1427.81 62.9365 1427.81 Z\" fill=\"#000000\" fill-rule=\"nonzero\" fill-opacity=\"1\" /><path clip-path=\"url(#clip150)\" d=\"M83.0984 1457.12 L87.9827 1457.12 L87.9827 1463 L83.0984 1463 L83.0984 1457.12 Z\" fill=\"#000000\" fill-rule=\"nonzero\" fill-opacity=\"1\" /><path clip-path=\"url(#clip150)\" d=\"M108.168 1431.51 Q104.557 1431.51 102.728 1435.08 Q100.922 1438.62 100.922 1445.75 Q100.922 1452.86 102.728 1456.42 Q104.557 1459.96 108.168 1459.96 Q111.802 1459.96 113.608 1456.42 Q115.436 1452.86 115.436 1445.75 Q115.436 1438.62 113.608 1435.08 Q111.802 1431.51 108.168 1431.51 M108.168 1427.81 Q113.978 1427.81 117.033 1432.42 Q120.112 1437 120.112 1445.75 Q120.112 1454.48 117.033 1459.08 Q113.978 1463.67 108.168 1463.67 Q102.358 1463.67 99.2789 1459.08 Q96.2234 1454.48 96.2234 1445.75 Q96.2234 1437 99.2789 1432.42 Q102.358 1427.81 108.168 1427.81 Z\" fill=\"#000000\" fill-rule=\"nonzero\" fill-opacity=\"1\" /><path clip-path=\"url(#clip150)\" d=\"M138.33 1431.51 Q134.719 1431.51 132.89 1435.08 Q131.084 1438.62 131.084 1445.75 Q131.084 1452.86 132.89 1456.42 Q134.719 1459.96 138.33 1459.96 Q141.964 1459.96 143.769 1456.42 Q145.598 1452.86 145.598 1445.75 Q145.598 1438.62 143.769 1435.08 Q141.964 1431.51 138.33 1431.51 M138.33 1427.81 Q144.14 1427.81 147.195 1432.42 Q150.274 1437 150.274 1445.75 Q150.274 1454.48 147.195 1459.08 Q144.14 1463.67 138.33 1463.67 Q132.519 1463.67 129.441 1459.08 Q126.385 1454.48 126.385 1445.75 Q126.385 1437 129.441 1432.42 Q132.519 1427.81 138.33 1427.81 Z\" fill=\"#000000\" fill-rule=\"nonzero\" fill-opacity=\"1\" /><path clip-path=\"url(#clip150)\" d=\"M63.9319 1092.08 Q60.3208 1092.08 58.4921 1095.64 Q56.6865 1099.19 56.6865 1106.32 Q56.6865 1113.42 58.4921 1116.99 Q60.3208 1120.53 63.9319 1120.53 Q67.5661 1120.53 69.3717 1116.99 Q71.2004 1113.42 71.2004 1106.32 Q71.2004 1099.19 69.3717 1095.64 Q67.5661 1092.08 63.9319 1092.08 M63.9319 1088.38 Q69.742 1088.38 72.7976 1092.98 Q75.8763 1097.57 75.8763 1106.32 Q75.8763 1115.04 72.7976 1119.65 Q69.742 1124.23 63.9319 1124.23 Q58.1217 1124.23 55.043 1119.65 Q51.9875 1115.04 51.9875 1106.32 Q51.9875 1097.57 55.043 1092.98 Q58.1217 1088.38 63.9319 1088.38 Z\" fill=\"#000000\" fill-rule=\"nonzero\" fill-opacity=\"1\" /><path clip-path=\"url(#clip150)\" d=\"M84.0938 1117.68 L88.978 1117.68 L88.978 1123.56 L84.0938 1123.56 L84.0938 1117.68 Z\" fill=\"#000000\" fill-rule=\"nonzero\" fill-opacity=\"1\" /><path clip-path=\"url(#clip150)\" d=\"M103.191 1119.63 L119.51 1119.63 L119.51 1123.56 L97.566 1123.56 L97.566 1119.63 Q100.228 1116.87 104.811 1112.24 Q109.418 1107.59 110.598 1106.25 Q112.844 1103.72 113.723 1101.99 Q114.626 1100.23 114.626 1098.54 Q114.626 1095.78 112.682 1094.05 Q110.76 1092.31 107.658 1092.31 Q105.459 1092.31 103.006 1093.07 Q100.575 1093.84 97.7974 1095.39 L97.7974 1090.67 Q100.621 1089.53 103.075 1088.95 Q105.529 1088.38 107.566 1088.38 Q112.936 1088.38 116.131 1091.06 Q119.325 1093.75 119.325 1098.24 Q119.325 1100.37 118.515 1102.29 Q117.728 1104.19 115.621 1106.78 Q115.043 1107.45 111.941 1110.67 Q108.839 1113.86 103.191 1119.63 Z\" fill=\"#000000\" fill-rule=\"nonzero\" fill-opacity=\"1\" /><path clip-path=\"url(#clip150)\" d=\"M129.371 1089 L147.728 1089 L147.728 1092.94 L133.654 1092.94 L133.654 1101.41 Q134.672 1101.06 135.691 1100.9 Q136.709 1100.71 137.728 1100.71 Q143.515 1100.71 146.894 1103.89 Q150.274 1107.06 150.274 1112.47 Q150.274 1118.05 146.802 1121.15 Q143.33 1124.23 137.01 1124.23 Q134.834 1124.23 132.566 1123.86 Q130.32 1123.49 127.913 1122.75 L127.913 1118.05 Q129.996 1119.19 132.219 1119.74 Q134.441 1120.3 136.918 1120.3 Q140.922 1120.3 143.26 1118.19 Q145.598 1116.08 145.598 1112.47 Q145.598 1108.86 143.26 1106.76 Q140.922 1104.65 136.918 1104.65 Q135.043 1104.65 133.168 1105.07 Q131.316 1105.48 129.371 1106.36 L129.371 1089 Z\" fill=\"#000000\" fill-rule=\"nonzero\" fill-opacity=\"1\" /><path clip-path=\"url(#clip150)\" d=\"M62.9365 752.645 Q59.3254 752.645 57.4967 756.209 Q55.6912 759.751 55.6912 766.881 Q55.6912 773.987 57.4967 777.552 Q59.3254 781.094 62.9365 781.094 Q66.5707 781.094 68.3763 777.552 Q70.205 773.987 70.205 766.881 Q70.205 759.751 68.3763 756.209 Q66.5707 752.645 62.9365 752.645 M62.9365 748.941 Q68.7467 748.941 71.8022 753.547 Q74.8809 758.131 74.8809 766.881 Q74.8809 775.608 71.8022 780.214 Q68.7467 784.797 62.9365 784.797 Q57.1264 784.797 54.0477 780.214 Q50.9921 775.608 50.9921 766.881 Q50.9921 758.131 54.0477 753.547 Q57.1264 748.941 62.9365 748.941 Z\" fill=\"#000000\" fill-rule=\"nonzero\" fill-opacity=\"1\" /><path clip-path=\"url(#clip150)\" d=\"M83.0984 778.246 L87.9827 778.246 L87.9827 784.126 L83.0984 784.126 L83.0984 778.246 Z\" fill=\"#000000\" fill-rule=\"nonzero\" fill-opacity=\"1\" /><path clip-path=\"url(#clip150)\" d=\"M98.2141 749.566 L116.57 749.566 L116.57 753.501 L102.496 753.501 L102.496 761.973 Q103.515 761.626 104.534 761.464 Q105.552 761.279 106.571 761.279 Q112.358 761.279 115.737 764.45 Q119.117 767.621 119.117 773.038 Q119.117 778.617 115.645 781.719 Q112.172 784.797 105.853 784.797 Q103.677 784.797 101.409 784.427 Q99.1632 784.057 96.7558 783.316 L96.7558 778.617 Q98.8391 779.751 101.061 780.307 Q103.284 780.862 105.76 780.862 Q109.765 780.862 112.103 778.756 Q114.441 776.649 114.441 773.038 Q114.441 769.427 112.103 767.321 Q109.765 765.214 105.76 765.214 Q103.885 765.214 102.01 765.631 Q100.159 766.047 98.2141 766.927 L98.2141 749.566 Z\" fill=\"#000000\" fill-rule=\"nonzero\" fill-opacity=\"1\" /><path clip-path=\"url(#clip150)\" d=\"M138.33 752.645 Q134.719 752.645 132.89 756.209 Q131.084 759.751 131.084 766.881 Q131.084 773.987 132.89 777.552 Q134.719 781.094 138.33 781.094 Q141.964 781.094 143.769 777.552 Q145.598 773.987 145.598 766.881 Q145.598 759.751 143.769 756.209 Q141.964 752.645 138.33 752.645 M138.33 748.941 Q144.14 748.941 147.195 753.547 Q150.274 758.131 150.274 766.881 Q150.274 775.608 147.195 780.214 Q144.14 784.797 138.33 784.797 Q132.519 784.797 129.441 780.214 Q126.385 775.608 126.385 766.881 Q126.385 758.131 129.441 753.547 Q132.519 748.941 138.33 748.941 Z\" fill=\"#000000\" fill-rule=\"nonzero\" fill-opacity=\"1\" /><path clip-path=\"url(#clip150)\" d=\"M63.9319 413.21 Q60.3208 413.21 58.4921 416.775 Q56.6865 420.316 56.6865 427.446 Q56.6865 434.552 58.4921 438.117 Q60.3208 441.659 63.9319 441.659 Q67.5661 441.659 69.3717 438.117 Q71.2004 434.552 71.2004 427.446 Q71.2004 420.316 69.3717 416.775 Q67.5661 413.21 63.9319 413.21 M63.9319 409.506 Q69.742 409.506 72.7976 414.113 Q75.8763 418.696 75.8763 427.446 Q75.8763 436.173 72.7976 440.779 Q69.742 445.362 63.9319 445.362 Q58.1217 445.362 55.043 440.779 Q51.9875 436.173 51.9875 427.446 Q51.9875 418.696 55.043 414.113 Q58.1217 409.506 63.9319 409.506 Z\" fill=\"#000000\" fill-rule=\"nonzero\" fill-opacity=\"1\" /><path clip-path=\"url(#clip150)\" d=\"M84.0938 438.812 L88.978 438.812 L88.978 444.691 L84.0938 444.691 L84.0938 438.812 Z\" fill=\"#000000\" fill-rule=\"nonzero\" fill-opacity=\"1\" /><path clip-path=\"url(#clip150)\" d=\"M97.9826 410.131 L120.205 410.131 L120.205 412.122 L107.658 444.691 L102.774 444.691 L114.58 414.066 L97.9826 414.066 L97.9826 410.131 Z\" fill=\"#000000\" fill-rule=\"nonzero\" fill-opacity=\"1\" /><path clip-path=\"url(#clip150)\" d=\"M129.371 410.131 L147.728 410.131 L147.728 414.066 L133.654 414.066 L133.654 422.538 Q134.672 422.191 135.691 422.029 Q136.709 421.844 137.728 421.844 Q143.515 421.844 146.894 425.015 Q150.274 428.187 150.274 433.603 Q150.274 439.182 146.802 442.284 Q143.33 445.362 137.01 445.362 Q134.834 445.362 132.566 444.992 Q130.32 444.622 127.913 443.881 L127.913 439.182 Q129.996 440.316 132.219 440.872 Q134.441 441.427 136.918 441.427 Q140.922 441.427 143.26 439.321 Q145.598 437.214 145.598 433.603 Q145.598 429.992 143.26 427.886 Q140.922 425.779 136.918 425.779 Q135.043 425.779 133.168 426.196 Q131.316 426.613 129.371 427.492 L129.371 410.131 Z\" fill=\"#000000\" fill-rule=\"nonzero\" fill-opacity=\"1\" /><path clip-path=\"url(#clip150)\" d=\"M53.7467 101.321 L61.3856 101.321 L61.3856 74.9555 L53.0754 76.6222 L53.0754 72.3629 L61.3393 70.6963 L66.0152 70.6963 L66.0152 101.321 L73.654 101.321 L73.654 105.256 L53.7467 105.256 L53.7467 101.321 Z\" fill=\"#000000\" fill-rule=\"nonzero\" fill-opacity=\"1\" /><path clip-path=\"url(#clip150)\" d=\"M83.0984 99.3767 L87.9827 99.3767 L87.9827 105.256 L83.0984 105.256 L83.0984 99.3767 Z\" fill=\"#000000\" fill-rule=\"nonzero\" fill-opacity=\"1\" /><path clip-path=\"url(#clip150)\" d=\"M108.168 73.775 Q104.557 73.775 102.728 77.3398 Q100.922 80.8814 100.922 88.011 Q100.922 95.1174 102.728 98.6822 Q104.557 102.224 108.168 102.224 Q111.802 102.224 113.608 98.6822 Q115.436 95.1174 115.436 88.011 Q115.436 80.8814 113.608 77.3398 Q111.802 73.775 108.168 73.775 M108.168 70.0713 Q113.978 70.0713 117.033 74.6777 Q120.112 79.261 120.112 88.011 Q120.112 96.7378 117.033 101.344 Q113.978 105.928 108.168 105.928 Q102.358 105.928 99.2789 101.344 Q96.2234 96.7378 96.2234 88.011 Q96.2234 79.261 99.2789 74.6777 Q102.358 70.0713 108.168 70.0713 Z\" fill=\"#000000\" fill-rule=\"nonzero\" fill-opacity=\"1\" /><path clip-path=\"url(#clip150)\" d=\"M138.33 73.775 Q134.719 73.775 132.89 77.3398 Q131.084 80.8814 131.084 88.011 Q131.084 95.1174 132.89 98.6822 Q134.719 102.224 138.33 102.224 Q141.964 102.224 143.769 98.6822 Q145.598 95.1174 145.598 88.011 Q145.598 80.8814 143.769 77.3398 Q141.964 73.775 138.33 73.775 M138.33 70.0713 Q144.14 70.0713 147.195 74.6777 Q150.274 79.261 150.274 88.011 Q150.274 96.7378 147.195 101.344 Q144.14 105.928 138.33 105.928 Q132.519 105.928 129.441 101.344 Q126.385 96.7378 126.385 88.011 Q126.385 79.261 129.441 74.6777 Q132.519 70.0713 138.33 70.0713 Z\" fill=\"#000000\" fill-rule=\"nonzero\" fill-opacity=\"1\" /><polyline clip-path=\"url(#clip152)\" style=\"stroke:#009af9; stroke-linecap:round; stroke-linejoin:round; stroke-width:4; stroke-opacity:1; fill:none\" points=\"247.59,1445.72 311.46,87.9763 375.33,88.824 439.201,427.835 503.071,768.905 566.941,1022.45 630.812,1193.1 694.682,1266.42 758.552,1268.29 822.423,1267.31 886.293,1269.24 950.163,1268.57 1014.03,1269.05 1077.9,1269.16 1141.77,1269.54 1205.64,1269.36 1269.51,1269.87 1333.39,1269.75 1397.26,1270.41 1461.13,1270.14 1525,1270.49 1588.87,1270.57 1652.74,1271.18 1716.61,1270.52 1780.48,1271.01 1844.35,1271.21 1908.22,1271.36 1972.09,1271.18 2035.96,1271.5 2099.83,1271.77 2163.7,1271.58 2227.57,1270.96 2291.44,1271.46 \"/>\n",
       "<path clip-path=\"url(#clip150)\" d=\"M2011.46 198.898 L2280.54 198.898 L2280.54 95.2176 L2011.46 95.2176  Z\" fill=\"#ffffff\" fill-rule=\"evenodd\" fill-opacity=\"1\"/>\n",
       "<polyline clip-path=\"url(#clip150)\" style=\"stroke:#000000; stroke-linecap:round; stroke-linejoin:round; stroke-width:4; stroke-opacity:1; fill:none\" points=\"2011.46,198.898 2280.54,198.898 2280.54,95.2176 2011.46,95.2176 2011.46,198.898 \"/>\n",
       "<polyline clip-path=\"url(#clip150)\" style=\"stroke:#009af9; stroke-linecap:round; stroke-linejoin:round; stroke-width:4; stroke-opacity:1; fill:none\" points=\"2035.53,147.058 2179.97,147.058 \"/>\n",
       "<path clip-path=\"url(#clip150)\" d=\"M2217.88 166.745 Q2216.07 171.375 2214.36 172.787 Q2212.65 174.199 2209.78 174.199 L2206.38 174.199 L2206.38 170.634 L2208.88 170.634 Q2210.63 170.634 2211.61 169.8 Q2212.58 168.967 2213.76 165.865 L2214.52 163.921 L2204.04 138.412 L2208.55 138.412 L2216.65 158.689 L2224.76 138.412 L2229.27 138.412 L2217.88 166.745 Z\" fill=\"#000000\" fill-rule=\"nonzero\" fill-opacity=\"1\" /><path clip-path=\"url(#clip150)\" d=\"M2236.56 160.402 L2244.2 160.402 L2244.2 134.037 L2235.89 135.703 L2235.89 131.444 L2244.15 129.778 L2248.83 129.778 L2248.83 160.402 L2256.47 160.402 L2256.47 164.338 L2236.56 164.338 L2236.56 160.402 Z\" fill=\"#000000\" fill-rule=\"nonzero\" fill-opacity=\"1\" /></svg>\n"
      ]
     },
     "metadata": {},
     "output_type": "display_data"
    }
   ],
   "source": [
    "using Plots\n",
    "\n",
    "plot(S_E)"
   ]
  },
  {
   "cell_type": "markdown",
   "id": "526a59df",
   "metadata": {},
   "source": [
    "## (b) Wannier orbitals\n",
    "- $\\ket{\\Psi}=P_G\\prod_{r=1}^N\\zeta_r^\\dagger\\ket{0}$\n",
    "- Build maximally localized Wannier orbitals\n",
    "    - $X=\\sum_{j=1}^N\\sum_{\\alpha=\\uparrow,\\downarrow}jc_{j\\alpha}^\\dagger c_{j\\alpha}$\n",
    "    - $\\tilde{X}_{mn}=\\braket{0|d_mXd_n^\\dagger|0}$\n",
    "    - Diagonalize $\\tilde{X}=B\\Lambda B^\\dagger$\n",
    "    - The orbital: $\\zeta_r^\\dagger=\\sum_{m=1}^NB_{mr}d_m^\\dagger=\\sum_{l=1}^{2N}(B^TA)_{rl}c_l^\\dagger$\n",
    "- Represent as MPO: $X=\\begin{pmatrix}0&1\\end{pmatrix}\\prod_j\\begin{pmatrix}1&0\\\\ X_j&1\\end{pmatrix}\\begin{pmatrix}1\\\\0\\end{pmatrix}$ where $X_j=j(n_\\uparrow+n_\\downarrow)$\n",
    "- Unfolding to 2N sites: $X_i=\\lceil\\frac{i}{2}\\rceil n_i$\n",
    "- J-W trafo: $X_i=\\frac{1}{2}\\lceil\\frac{i}{2}\\rceil (1-\\sigma^z_i)$"
   ]
  },
  {
   "cell_type": "code",
   "execution_count": 61,
   "id": "00c5ce96",
   "metadata": {},
   "outputs": [
    {
     "data": {
      "text/plain": [
       "index_transform (generic function with 1 method)"
      ]
     },
     "metadata": {},
     "output_type": "display_data"
    }
   ],
   "source": [
    "function mpo_to_mps(mps::Vector{Array{Complex, 3}}, mpo::Vector{Array{Complex, 4}})\n",
    "    result = Vector{Array{Complex, 3}}(undef, length(mps))\n",
    "    for i in 1:length(mps)\n",
    "        mps_new = contract(mps[i], [2], mpo[i], [4])\n",
    "        # combine legs (1, 3) and (2, 5)\n",
    "        id14 = tn_identity(mps_new, 1, mps_new, 3)\n",
    "        id23 = tn_identity(mps_new, 2, mps_new, 5)\n",
    "        mps_new = contract(mps_new, [1, 3], id14, [1, 2])\n",
    "        mps_new = contract(mps_new, [1, 3], id23, [1, 2])\n",
    "        result[i] = permutedims(mps_new, (2, 1, 3))\n",
    "    end\n",
    "    return result\n",
    "end\n",
    "\n",
    "function expectation(mps1::Vector{Array{Complex, 3}}, mps2::Vector{Array{Complex, 3}}, mpo::Vector{Array{Complex, 4}})\n",
    "    result = reshape([1], (1,1,1))\n",
    "    for i in 1:length(mps1)\n",
    "        result = updateLeft(result, mps2[i], mpo[i], mps1[i])\n",
    "    end\n",
    "    return result[1, 1, 1]\n",
    "end\n",
    "\n",
    "function index_transform(n::Int)\n",
    "    return k_vec[ceil(Int, n/2)], 1 - mod(n, 2)    \n",
    "end"
   ]
  },
  {
   "cell_type": "markdown",
   "id": "37071ad2",
   "metadata": {},
   "source": [
    "- $k_n=k(\\lceil n/2\\rceil)$\n",
    "- $\\alpha_n=1-\\mathrm{mod}_2 n$"
   ]
  },
  {
   "cell_type": "code",
   "execution_count": 62,
   "id": "26705150",
   "metadata": {},
   "outputs": [],
   "source": [
    "X = Vector{Array{Complex, 4}}(undef, 2N)\n",
    "for i in 1:2N\n",
    "    X[i] = zeros(Complex, 2, 2, 2, 2)  # MPO for X operator\n",
    "    X[i][1, :, 1, :] = id # identity operator\n",
    "    X[i][2, :, 2, :] = id # identity operator\n",
    "    X[i][2, :, 1, :] = ceil(i/2) / 2 .* (id-sz)\n",
    "end\n",
    "X[1] = contract([0 1], [2], X[1], [1])\n",
    "X[2N] = permutedims(contract(X[2N], [3], [1 0], [2]), (1,2,4,3))\n",
    "\n",
    "X_mat = Matrix{Complex}(undef, N, N)\n",
    "for (m, n) in Iterators.product(1:N, 1:N)\n",
    "    kn, alphan = index_transform(n)\n",
    "    km, alpham = index_transform(m)\n",
    "    dn = mpo_to_mps(mps_jw, mpo_dkalpha(kn, alphan, 2N))\n",
    "    dm = mpo_to_mps(mps_jw, mpo_dkalpha(km, alpham, 2N))\n",
    "    X_mat[m, n] = expectation(dn, dm, X)\n",
    "end"
   ]
  },
  {
   "cell_type": "code",
   "execution_count": null,
   "id": "e582141a",
   "metadata": {},
   "outputs": [
    {
     "data": {
      "text/plain": [
       "2×2×2×2 Array{ComplexF64, 4}:\n",
       "[:, :, 1, 1] =\n",
       " 0.0123322+0.00852543im  0.0+0.0im\n",
       "       0.0+0.0im         0.0+0.0im\n",
       "\n",
       "[:, :, 2, 1] =\n",
       "        0.0+0.0im         0.0+0.0im\n",
       " 0.00616611+0.00426271im  0.0+0.0im\n",
       "\n",
       "[:, :, 1, 2] =\n",
       "          0.0+0.0im          0.0123322+0.00852543im\n",
       " -9.54776e-17+1.58185e-16im        0.0+0.0im\n",
       "\n",
       "[:, :, 2, 2] =\n",
       " 0.0+0.0im          0.0+0.0im\n",
       " 0.0+0.0im  -0.00616611-0.00426271im"
      ]
     },
     "metadata": {},
     "output_type": "display_data"
    }
   ],
   "source": [
    "eig = eigen(X_mat)\n",
    "B = eig.vectors\n",
    "\n",
    "function wannier(r::Int)\n",
    "    # r is the index of the Wannier-orbital\n",
    "    # B is the matrix of eigenvectors from the previous step\n",
    "    # The Wannier function is given by the r-th column of B\n",
    "    W_r = Vector{Array{Complex,4}}(undef, 2N)\n",
    "    W_r[1] = zeros(Complex, 1,2,2,2)\n",
    "    for i in 2:2N-1\n",
    "        W_r[i] = zeros(Complex, 2,2,2,2)\n",
    "    end\n",
    "    W_r[2N] = zeros(Complex, 2,2,1,2)\n",
    "\n",
    "    for m in 1:N\n",
    "        km, alpham = index_transform(m)\n",
    "        W_r = W_r + B[m, r] .* mpo_dkalpha(km, alpham, 2N)\n",
    "    end\n",
    "    return W_r\n",
    "end\n",
    "\n",
    "@show wannier(1)[2]  # calculate the first Wannier function"
   ]
  }
 ],
 "metadata": {
  "kernelspec": {
   "display_name": "Julia 1.11.5",
   "language": "julia",
   "name": "julia-1.11"
  },
  "language_info": {
   "file_extension": ".jl",
   "mimetype": "application/julia",
   "name": "julia",
   "version": "1.11.5"
  }
 },
 "nbformat": 4,
 "nbformat_minor": 5
}
